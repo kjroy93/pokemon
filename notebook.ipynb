{
 "cells": [
  {
   "cell_type": "code",
   "execution_count": null,
   "metadata": {},
   "outputs": [],
   "source": [
    "# Standard libraries of Python\n",
    "\n",
    "from time import gmtime\n",
    "\n",
    "# Dependencies\n",
    "import pandas as pd\n",
    "import requests\n",
    "import re\n",
    "\n",
    "from pandas import DataFrame\n",
    "from bs4 import BeautifulSoup,Tag\n",
    "from dataclasses import dataclass\n",
    "from selectolax.parser import HTMLParser\n",
    "from tqdm import tqdm\n",
    "\n",
    "# Librarys\n",
    "from backend.database.src.src import Pokemon, Mega_Pokemon\n",
    "from backend.database.src.parse import process_hidden_ability,process_ability,process_form_ability"
   ]
  },
  {
   "cell_type": "code",
   "execution_count": null,
   "metadata": {},
   "outputs": [],
   "source": [
    "#Class for selectolax scrap\n",
    "# @dataclass\n",
    "# class Pokemon:\n",
    "#     name: str\n",
    "#     gender: str\n",
    "#     types: list"
   ]
  },
  {
   "cell_type": "code",
   "execution_count": null,
   "metadata": {},
   "outputs": [],
   "source": [
    "#Selecto scrap\n",
    "pokedex = []\n",
    "url = 'https://www.serebii.net/pokedex-sm/{}.shtml'.format(str(1).zfill(3))\n",
    "html = requests.get(url).text\n",
    "tree = HTMLParser(html)\n",
    "pokemon = Pokemon(name=tree.css_first('#content > main > div > div > table:nth-child(7) > tbody > tr:nth-child(2) > td:nth-child(1)').text(),\n",
    "            gender=tree.css_first('#content > main > div > div > table:nth-child(7) > tbody > tr:nth-child(2) > td:nth-child(4)').text(),\n",
    "            types=list(map(lambda x: x.attributes['alt'], tree.css('#content > main > div > div > table:nth-child(5) > tbody > tr:nth-child(2) > td.cen >> img'))))\n",
    "pokedex.append(pokemon)\n",
    "\n",
    "pd.DataFrame(pokedex)"
   ]
  },
  {
   "cell_type": "code",
   "execution_count": null,
   "metadata": {},
   "outputs": [],
   "source": [
    "#Examble of use with bs4\n",
    "html_text = requests.get(f'https://www.serebii.net/pokedex-sm/006.shtml').text\n",
    "soup = BeautifulSoup(html_text, 'html.parser')\n",
    "all_divs = soup.find_all('div', attrs={'align': 'center'})\n",
    "foo_info = all_divs[0].find_all('td', {'class': 'footype'})"
   ]
  },
  {
   "cell_type": "code",
   "execution_count": null,
   "metadata": {},
   "outputs": [],
   "source": [
    "#Class test\n",
    "x = Pokemon(7,6)\n",
    "\n",
    "all_divs = x.soup.find_all('div', attrs={'align': 'center'})\n",
    "foo_info = all_divs[0].find_all('td', {'class': 'footype'})"
   ]
  },
  {
   "cell_type": "code",
   "execution_count": null,
   "metadata": {},
   "outputs": [],
   "source": [
    "#Abilities\n",
    "ala = foo_info.find_all('b')\n",
    "\n",
    "abilities = {'ability': [], 'hidden_ability': []}\n",
    "form_abilities = {'ability': [], 'hidden_ability': []}\n",
    "skip_next_flag = False\n",
    "form_abilities_flag = False\n",
    "\n",
    "for tag in ala:\n",
    "    if skip_next_flag:\n",
    "        skip_next_flag = False\n",
    "        continue\n",
    "\n",
    "    if \"Hidden Ability\" in tag.text:\n",
    "        skip_next_flag = process_hidden_ability(tag, abilities, form_abilities, skip_next_flag, form_abilities_flag)\n",
    "    else:\n",
    "        form_abilities_flag = process_form_ability(tag, form_abilities_flag)\n",
    "        process_ability(tag, abilities, form_abilities, form_abilities_flag)\n",
    "\n",
    "form_abilities_flag = False"
   ]
  },
  {
   "cell_type": "code",
   "execution_count": null,
   "metadata": {},
   "outputs": [],
   "source": [
    "#Weakness\n",
    "types = []\n",
    "\n",
    "for td_tag in foo_info[0:18]:\n",
    "    a_tag = td_tag.find('img')\n",
    "    if a_tag:\n",
    "        type_text = a_tag['alt']\n",
    "        types.append(type_text)\n",
    "\n",
    "s = 'Attacking Move Type: ','-type'\n",
    "for string in s:\n",
    "    types = list(map(lambda x: x.replace(string,''),types))\n",
    "\n",
    "print(types)\n",
    "\n",
    "filtered = [tag for tag in foo_info[18:36] if '*' in tag.get_text(strip=True)]\n",
    "filtered_t = [i.text for i in filtered]\n",
    "val = list(map(lambda x: int(x.replace('*','')),filtered_t))"
   ]
  },
  {
   "cell_type": "code",
   "execution_count": null,
   "metadata": {},
   "outputs": [],
   "source": [
    "#Elemental Types\n",
    "tp = foo_info[0]\n",
    "types = []\n",
    "for tag in tp:\n",
    "    print(f'tag a añadir:{tag}')\n",
    "    a_tag = tag.find('img')\n",
    "    if a_tag and not isinstance(a_tag,Tag):\n",
    "        continue\n",
    "    else:\n",
    "        type_text = a_tag['alt']\n",
    "        types.append(type_text)\n",
    "\n",
    "s = 'Attacking Move Type: ','-type'\n",
    "for string in s:\n",
    "    types = list(map(lambda x: x.replace(string,''),types))"
   ]
  },
  {
   "cell_type": "code",
   "execution_count": null,
   "metadata": {},
   "outputs": [],
   "source": [
    "#Get al tables from the main center table\n",
    "tables = all_divs[0].find_all('table', {'class': 'dextable'})\n",
    "\n",
    "#Search for the line that contains <td class=\"fooevo\" colspan=\"6\">\n",
    "mega_evolution_position = -1\n",
    "counter = 0\n",
    "for i, table in enumerate(tables):\n",
    "    if table.find('td', {'class': 'fooevo', 'colspan': '6'}):\n",
    "        mega_evolution_position = i\n",
    "        print(i)\n",
    "        print(table)\n",
    "        break #Simulates return\n",
    "    else:\n",
    "        print('Does not have Mega')"
   ]
  },
  {
   "cell_type": "code",
   "execution_count": null,
   "metadata": {},
   "outputs": [],
   "source": [
    "#Mega Evolution Types\n",
    "t = tables[19].find('td', class_='cen')\n",
    "\n",
    "ty_val = []\n",
    "\n",
    "for i in t:\n",
    "    n = i.find('img')\n",
    "    if n and not isinstance(n,Tag):\n",
    "        continue\n",
    "    n = n['src']\n",
    "    for element in x.elemental_types:\n",
    "        ty = element.lower()\n",
    "        if ty in n:\n",
    "            ty_val.append(element)\n",
    "\n",
    "print(ty_val)"
   ]
  },
  {
   "cell_type": "code",
   "execution_count": null,
   "metadata": {},
   "outputs": [],
   "source": [
    "#Mega Evolution Weakness\n",
    "w = []\n",
    "\n",
    "if ty_val == x._elements:\n",
    "    pass\n",
    "else:\n",
    "    weak_location = tables[22].find('td', string=re.compile(\"Base Stats - Total.*\")).find_next_siblings('td')\n",
    "    filtered_types = list(filter(lambda x: '*' in x.text, weak_location.find_all('td', {'class': 'footype'})))\n",
    "    filtered = [tag.text for tag in filtered_types if '*' in tag.get_text(strip=True)]\n",
    "\n",
    "    val = list(map(lambda x: x.replace('*',''),filtered_t))\n",
    "\n",
    "    for i in val:\n",
    "        try:\n",
    "            w.append(int(i))\n",
    "        except ValueError:\n",
    "            w.append(float(i))\n",
    "\n",
    "    mega_weak = dict(zip(x.elemental_types,w))"
   ]
  }
 ],
 "metadata": {
  "kernelspec": {
   "display_name": "python_main",
   "language": "python",
   "name": "python3"
  },
  "language_info": {
   "codemirror_mode": {
    "name": "ipython",
    "version": 3
   },
   "file_extension": ".py",
   "mimetype": "text/x-python",
   "name": "python",
   "nbconvert_exporter": "python",
   "pygments_lexer": "ipython3",
   "version": "3.11.0"
  }
 },
 "nbformat": 4,
 "nbformat_minor": 2
}
