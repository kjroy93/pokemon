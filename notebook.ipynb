{
 "cells": [
  {
   "cell_type": "code",
   "execution_count": 1,
   "metadata": {},
   "outputs": [],
   "source": [
    "# Standard libraries of Python\n",
    "\n",
    "from time import gmtime\n",
    "import re\n",
    "\n",
    "# Dependencies\n",
    "import pandas as pd\n",
    "import requests\n",
    "\n",
    "from pandas import DataFrame\n",
    "from bs4 import BeautifulSoup,Tag\n",
    "from dataclasses import dataclass\n",
    "from selectolax.parser import HTMLParser\n",
    "from tqdm import tqdm\n",
    "\n",
    "# Libraries\n",
    "from backend.database.src.src import Pokemon, Mega_Pokemon\n",
    "from backend.database.src.parse import process_hidden_ability,process_form_ability,process_ability"
   ]
  },
  {
   "cell_type": "code",
   "execution_count": null,
   "metadata": {},
   "outputs": [],
   "source": [
    "#Class for selectolax scrap\n",
    "# @dataclass\n",
    "# class Pokemon:\n",
    "#     name: str\n",
    "#     gender: str\n",
    "#     types: list"
   ]
  },
  {
   "cell_type": "code",
   "execution_count": null,
   "metadata": {},
   "outputs": [],
   "source": [
    "#Selecto scrap\n",
    "pokedex = []\n",
    "url = 'https://www.serebii.net/pokedex-sm/{}.shtml'.format(str(1).zfill(3))\n",
    "html = requests.get(url).text\n",
    "tree = HTMLParser(html)\n",
    "pokemon = Pokemon(name=tree.css_first('#content > main > div > div > table:nth-child(7) > tbody > tr:nth-child(2) > td:nth-child(1)').text(),\n",
    "            gender=tree.css_first('#content > main > div > div > table:nth-child(7) > tbody > tr:nth-child(2) > td:nth-child(4)').text(),\n",
    "            types=list(map(lambda x: x.attributes['alt'], tree.css('#content > main > div > div > table:nth-child(5) > tbody > tr:nth-child(2) > td.cen >> img'))))\n",
    "pokedex.append(pokemon)\n",
    "\n",
    "pd.DataFrame(pokedex)"
   ]
  },
  {
   "cell_type": "code",
   "execution_count": 7,
   "metadata": {},
   "outputs": [],
   "source": [
    "#Examble of use with bs4\n",
    "html_text = requests.get(f'https://www.serebii.net/pokedex-xy/006.shtml').text\n",
    "soup = BeautifulSoup(html_text, 'html.parser')\n",
    "all_divs = soup.find_all('div', attrs={'align': 'center'})\n",
    "foo_info = all_divs[0].find_all('td', {'class': 'footype'})"
   ]
  },
  {
   "cell_type": "code",
   "execution_count": 10,
   "metadata": {},
   "outputs": [
    {
     "data": {
      "text/plain": [
       "[<td class=\"footype\">\n",
       " <a href=\"/attackdex-xy/normal.shtml\"><img border=\"0\" src=\"/games/type/normal2.gif\"/></a>\n",
       " </td>,\n",
       " <td class=\"footype\">\n",
       " <a href=\"/attackdex-xy/fire.shtml\"><img border=\"0\" src=\"/games/type/fire2.gif\"/></a>\n",
       " </td>,\n",
       " <td class=\"footype\">\n",
       " <a href=\"/attackdex-xy/water.shtml\"><img border=\"0\" src=\"/games/type/water2.gif\"/></a>\n",
       " </td>,\n",
       " <td class=\"footype\">\n",
       " <a href=\"/attackdex-xy/electric.shtml\"><img border=\"0\" src=\"/games/type/electric2.gif\"/></a>\n",
       " </td>,\n",
       " <td class=\"footype\">\n",
       " <a href=\"/attackdex-xy/grass.shtml\"><img border=\"0\" src=\"/games/type/grass2.gif\"/></a>\n",
       " </td>,\n",
       " <td class=\"footype\">\n",
       " <a href=\"/attackdex-xy/ice.shtml\"><img border=\"0\" src=\"/games/type/ice2.gif\"/></a>\n",
       " </td>,\n",
       " <td class=\"footype\">\n",
       " <a href=\"/attackdex-xy/fighting.shtml\"><img border=\"0\" src=\"/games/type/fighting2.gif\"/></a>\n",
       " </td>,\n",
       " <td class=\"footype\">\n",
       " <a href=\"/attackdex-xy/poison.shtml\"><img border=\"0\" src=\"/games/type/poison2.gif\"/></a>\n",
       " </td>,\n",
       " <td class=\"footype\">\n",
       " <a href=\"/attackdex-xy/ground.shtml\"><img border=\"0\" src=\"/games/type/ground2.gif\"/></a>\n",
       " </td>,\n",
       " <td class=\"footype\">\n",
       " <a href=\"/attackdex-xy/flying.shtml\"><img border=\"0\" src=\"/games/type/flying2.gif\"/></a>\n",
       " </td>,\n",
       " <td class=\"footype\">\n",
       " <a href=\"/attackdex-xy/psychict.shtml\"><img border=\"0\" src=\"/games/type/psychic2.gif\"/></a>\n",
       " </td>,\n",
       " <td class=\"footype\">\n",
       " <a href=\"/attackdex-xy/bug.shtml\"><img border=\"0\" src=\"/games/type/bug2.gif\"/></a>\n",
       " </td>,\n",
       " <td class=\"footype\">\n",
       " <a href=\"/attackdex-xy/rock.shtml\"><img border=\"0\" src=\"/games/type/rock2.gif\"/></a>\n",
       " </td>,\n",
       " <td class=\"footype\">\n",
       " <a href=\"/attackdex-xy/ghost.shtml\"><img border=\"0\" src=\"/games/type/ghost2.gif\"/></a>\n",
       " </td>,\n",
       " <td class=\"footype\">\n",
       " <a href=\"/attackdex-xy/dragon.shtml\"><img border=\"0\" src=\"/games/type/dragon2.gif\"/></a>\n",
       " </td>,\n",
       " <td class=\"footype\">\n",
       " <a href=\"/attackdex-xy/dark.shtml\"><img border=\"0\" src=\"/games/type/dark2.gif\"/></a>\n",
       " </td>,\n",
       " <td class=\"footype\">\n",
       " <a href=\"/attackdex-xy/steel.shtml\"><img border=\"0\" src=\"/games/type/steel2.gif\"/></a>\n",
       " </td>,\n",
       " <td class=\"footype\">\n",
       " <a href=\"/attackdex-xy/fairy.shtml\"><img border=\"0\" src=\"/games/type/fairy2.gif\"/></a>\n",
       " </td>,\n",
       " <td class=\"footype\">*1</td>,\n",
       " <td class=\"footype\">*0.5</td>,\n",
       " <td class=\"footype\">*2</td>,\n",
       " <td class=\"footype\">*2</td>,\n",
       " <td class=\"footype\">*0.25</td>,\n",
       " <td class=\"footype\">*1</td>,\n",
       " <td class=\"footype\">*0.5</td>,\n",
       " <td class=\"footype\">*1</td>,\n",
       " <td class=\"footype\">*0</td>,\n",
       " <td class=\"footype\">*1</td>,\n",
       " <td class=\"footype\">*1</td>,\n",
       " <td class=\"footype\">*0.25</td>,\n",
       " <td class=\"footype\">*4</td>,\n",
       " <td class=\"footype\">*1</td>,\n",
       " <td class=\"footype\">*1</td>,\n",
       " <td class=\"footype\">*1</td>,\n",
       " <td class=\"footype\">*0.5</td>,\n",
       " <td class=\"footype\">*0.5</td>,\n",
       " <td class=\"footype\">\n",
       " <a href=\"/attackdex-xy/normal.shtml\"><img border=\"0\" src=\"/games/type/normal2.gif\"/></a>\n",
       " </td>,\n",
       " <td class=\"footype\">\n",
       " <a href=\"/attackdex-xy/fire.shtml\"><img border=\"0\" src=\"/games/type/fire2.gif\"/></a>\n",
       " </td>,\n",
       " <td class=\"footype\">\n",
       " <a href=\"/attackdex-xy/water.shtml\"><img border=\"0\" src=\"/games/type/water2.gif\"/></a>\n",
       " </td>,\n",
       " <td class=\"footype\">\n",
       " <a href=\"/attackdex-xy/electric.shtml\"><img border=\"0\" src=\"/games/type/electric2.gif\"/></a>\n",
       " </td>,\n",
       " <td class=\"footype\">\n",
       " <a href=\"/attackdex-xy/grass.shtml\"><img border=\"0\" src=\"/games/type/grass2.gif\"/></a>\n",
       " </td>,\n",
       " <td class=\"footype\">\n",
       " <a href=\"/attackdex-xy/ice.shtml\"><img border=\"0\" src=\"/games/type/ice2.gif\"/></a>\n",
       " </td>,\n",
       " <td class=\"footype\">\n",
       " <a href=\"/attackdex-xy/fighting.shtml\"><img border=\"0\" src=\"/games/type/fighting2.gif\"/></a>\n",
       " </td>,\n",
       " <td class=\"footype\">\n",
       " <a href=\"/attackdex-xy/poison.shtml\"><img border=\"0\" src=\"/games/type/poison2.gif\"/></a>\n",
       " </td>,\n",
       " <td class=\"footype\">\n",
       " <a href=\"/attackdex-xy/ground.shtml\"><img border=\"0\" src=\"/games/type/ground2.gif\"/></a>\n",
       " </td>,\n",
       " <td class=\"footype\">\n",
       " <a href=\"/attackdex-xy/flying.shtml\"><img border=\"0\" src=\"/games/type/flying2.gif\"/></a>\n",
       " </td>,\n",
       " <td class=\"footype\">\n",
       " <a href=\"/attackdex-xy/psychict.shtml\"><img border=\"0\" src=\"/games/type/psychic2.gif\"/></a>\n",
       " </td>,\n",
       " <td class=\"footype\">\n",
       " <a href=\"/attackdex-xy/bug.shtml\"><img border=\"0\" src=\"/games/type/bug2.gif\"/></a>\n",
       " </td>,\n",
       " <td class=\"footype\">\n",
       " <a href=\"/attackdex-xy/rock.shtml\"><img border=\"0\" src=\"/games/type/rock2.gif\"/></a>\n",
       " </td>,\n",
       " <td class=\"footype\">\n",
       " <a href=\"/attackdex-xy/ghost.shtml\"><img border=\"0\" src=\"/games/type/ghost2.gif\"/></a>\n",
       " </td>,\n",
       " <td class=\"footype\">\n",
       " <a href=\"/attackdex-xy/dragon.shtml\"><img border=\"0\" src=\"/games/type/dragon2.gif\"/></a>\n",
       " </td>,\n",
       " <td class=\"footype\">\n",
       " <a href=\"/attackdex-xy/dark.shtml\"><img border=\"0\" src=\"/games/type/dark2.gif\"/></a>\n",
       " </td>,\n",
       " <td class=\"footype\">\n",
       " <a href=\"/attackdex-xy/steel.shtml\"><img border=\"0\" src=\"/games/type/steel2.gif\"/></a>\n",
       " </td>,\n",
       " <td class=\"footype\">\n",
       " <a href=\"/attackdex-xy/fairy.shtml\"><img border=\"0\" src=\"/games/type/fairy2.gif\"/></a>\n",
       " </td>,\n",
       " <td class=\"footype\">*1</td>,\n",
       " <td class=\"footype\">*0.25</td>,\n",
       " <td class=\"footype\">*1</td>,\n",
       " <td class=\"footype\">*0.5</td>,\n",
       " <td class=\"footype\">*0.25</td>,\n",
       " <td class=\"footype\">*1</td>,\n",
       " <td class=\"footype\">*1</td>,\n",
       " <td class=\"footype\">*1</td>,\n",
       " <td class=\"footype\">*2</td>,\n",
       " <td class=\"footype\">*1</td>,\n",
       " <td class=\"footype\">*1</td>,\n",
       " <td class=\"footype\">*0.5</td>,\n",
       " <td class=\"footype\">*2</td>,\n",
       " <td class=\"footype\">*1</td>,\n",
       " <td class=\"footype\">*2</td>,\n",
       " <td class=\"footype\">*1</td>,\n",
       " <td class=\"footype\">*0.5</td>,\n",
       " <td class=\"footype\">*1</td>,\n",
       " <td class=\"footype\">\n",
       " <a href=\"/attackdex-xy/normal.shtml\"><img border=\"0\" src=\"/games/type/normal2.gif\"/></a>\n",
       " </td>,\n",
       " <td class=\"footype\">\n",
       " <a href=\"/attackdex-xy/fire.shtml\"><img border=\"0\" src=\"/games/type/fire2.gif\"/></a>\n",
       " </td>,\n",
       " <td class=\"footype\">\n",
       " <a href=\"/attackdex-xy/water.shtml\"><img border=\"0\" src=\"/games/type/water2.gif\"/></a>\n",
       " </td>,\n",
       " <td class=\"footype\">\n",
       " <a href=\"/attackdex-xy/electric.shtml\"><img border=\"0\" src=\"/games/type/electric2.gif\"/></a>\n",
       " </td>,\n",
       " <td class=\"footype\">\n",
       " <a href=\"/attackdex-xy/grass.shtml\"><img border=\"0\" src=\"/games/type/grass2.gif\"/></a>\n",
       " </td>,\n",
       " <td class=\"footype\">\n",
       " <a href=\"/attackdex-xy/ice.shtml\"><img border=\"0\" src=\"/games/type/ice2.gif\"/></a>\n",
       " </td>,\n",
       " <td class=\"footype\">\n",
       " <a href=\"/attackdex-xy/fighting.shtml\"><img border=\"0\" src=\"/games/type/fighting2.gif\"/></a>\n",
       " </td>,\n",
       " <td class=\"footype\">\n",
       " <a href=\"/attackdex-xy/poison.shtml\"><img border=\"0\" src=\"/games/type/poison2.gif\"/></a>\n",
       " </td>,\n",
       " <td class=\"footype\">\n",
       " <a href=\"/attackdex-xy/ground.shtml\"><img border=\"0\" src=\"/games/type/ground2.gif\"/></a>\n",
       " </td>,\n",
       " <td class=\"footype\">\n",
       " <a href=\"/attackdex-xy/flying.shtml\"><img border=\"0\" src=\"/games/type/flying2.gif\"/></a>\n",
       " </td>,\n",
       " <td class=\"footype\">\n",
       " <a href=\"/attackdex-xy/psychict.shtml\"><img border=\"0\" src=\"/games/type/psychic2.gif\"/></a>\n",
       " </td>,\n",
       " <td class=\"footype\">\n",
       " <a href=\"/attackdex-xy/bug.shtml\"><img border=\"0\" src=\"/games/type/bug2.gif\"/></a>\n",
       " </td>,\n",
       " <td class=\"footype\">\n",
       " <a href=\"/attackdex-xy/rock.shtml\"><img border=\"0\" src=\"/games/type/rock2.gif\"/></a>\n",
       " </td>,\n",
       " <td class=\"footype\">\n",
       " <a href=\"/attackdex-xy/ghost.shtml\"><img border=\"0\" src=\"/games/type/ghost2.gif\"/></a>\n",
       " </td>,\n",
       " <td class=\"footype\">\n",
       " <a href=\"/attackdex-xy/dragon.shtml\"><img border=\"0\" src=\"/games/type/dragon2.gif\"/></a>\n",
       " </td>,\n",
       " <td class=\"footype\">\n",
       " <a href=\"/attackdex-xy/dark.shtml\"><img border=\"0\" src=\"/games/type/dark2.gif\"/></a>\n",
       " </td>,\n",
       " <td class=\"footype\">\n",
       " <a href=\"/attackdex-xy/steel.shtml\"><img border=\"0\" src=\"/games/type/steel2.gif\"/></a>\n",
       " </td>,\n",
       " <td class=\"footype\">\n",
       " <a href=\"/attackdex-xy/fairy.shtml\"><img border=\"0\" src=\"/games/type/fairy2.gif\"/></a>\n",
       " </td>,\n",
       " <td class=\"footype\">*1</td>,\n",
       " <td class=\"footype\">*0.5</td>,\n",
       " <td class=\"footype\">*2</td>,\n",
       " <td class=\"footype\">*2</td>,\n",
       " <td class=\"footype\">*0.25</td>,\n",
       " <td class=\"footype\">*1</td>,\n",
       " <td class=\"footype\">*0.5</td>,\n",
       " <td class=\"footype\">*1</td>,\n",
       " <td class=\"footype\">*0</td>,\n",
       " <td class=\"footype\">*1</td>,\n",
       " <td class=\"footype\">*1</td>,\n",
       " <td class=\"footype\">*0.25</td>,\n",
       " <td class=\"footype\">*4</td>,\n",
       " <td class=\"footype\">*1</td>,\n",
       " <td class=\"footype\">*1</td>,\n",
       " <td class=\"footype\">*1</td>,\n",
       " <td class=\"footype\">*0.5</td>,\n",
       " <td class=\"footype\">*0.5</td>]"
      ]
     },
     "execution_count": 10,
     "metadata": {},
     "output_type": "execute_result"
    }
   ],
   "source": [
    "foo_info"
   ]
  },
  {
   "cell_type": "code",
   "execution_count": 14,
   "metadata": {},
   "outputs": [
    {
     "name": "stdout",
     "output_type": "stream",
     "text": [
      "esta\n",
      "xd\n",
      "xd\n",
      "xd\n",
      "xd\n",
      "xd\n",
      "xd\n",
      "xd\n",
      "xd\n",
      "xd\n",
      "xd\n",
      "xd\n",
      "xd\n",
      "xd\n",
      "xd\n",
      "xd\n",
      "xd\n",
      "xd\n"
     ]
    },
    {
     "ename": "TypeError",
     "evalue": "'NoneType' object is not subscriptable",
     "output_type": "error",
     "traceback": [
      "\u001b[1;31m---------------------------------------------------------------------------\u001b[0m",
      "\u001b[1;31mTypeError\u001b[0m                                 Traceback (most recent call last)",
      "Cell \u001b[1;32mIn[14], line 3\u001b[0m\n\u001b[0;32m      1\u001b[0m \u001b[38;5;28;01mfor\u001b[39;00m tag \u001b[38;5;129;01min\u001b[39;00m foo_info:\n\u001b[0;32m      2\u001b[0m     a_tag \u001b[38;5;241m=\u001b[39m tag\u001b[38;5;241m.\u001b[39mfind(\u001b[38;5;124m'\u001b[39m\u001b[38;5;124mimg\u001b[39m\u001b[38;5;124m'\u001b[39m)\n\u001b[1;32m----> 3\u001b[0m     text \u001b[38;5;241m=\u001b[39m a_tag[\u001b[38;5;124m'\u001b[39m\u001b[38;5;124msrc\u001b[39m\u001b[38;5;124m'\u001b[39m]\n\u001b[0;32m      4\u001b[0m     \u001b[38;5;28;01mif\u001b[39;00m \u001b[38;5;124m'\u001b[39m\u001b[38;5;124mnormal\u001b[39m\u001b[38;5;124m'\u001b[39m \u001b[38;5;129;01min\u001b[39;00m text:\n\u001b[0;32m      5\u001b[0m         \u001b[38;5;28mprint\u001b[39m(\u001b[38;5;124m'\u001b[39m\u001b[38;5;124mesta\u001b[39m\u001b[38;5;124m'\u001b[39m)\n",
      "\u001b[1;31mTypeError\u001b[0m: 'NoneType' object is not subscriptable"
     ]
    }
   ],
   "source": [
    "for tag in foo_info:\n",
    "    a_tag = tag.find('img')\n",
    "    text = a_tag['src']\n",
    "    if 'normal' in text:\n",
    "        print('esta')\n",
    "    else:\n",
    "        print('xd')"
   ]
  },
  {
   "cell_type": "code",
   "execution_count": null,
   "metadata": {},
   "outputs": [],
   "source": [
    "#Class test\n",
    "x = Pokemon(6,6)\n",
    "\n",
    "all_divs = x.soup.find_all('div', attrs={'align': 'center'})\n",
    "foo_info = all_divs[1].find_all('td', {'class': 'footype'})\n",
    "\n",
    "x.name()"
   ]
  },
  {
   "cell_type": "code",
   "execution_count": 15,
   "metadata": {},
   "outputs": [],
   "source": [
    "elemental_types = ['Normal', 'Fire', 'Water', 'Electric', 'Grass', 'Ice', 'Fight', 'Poison', 'Ground', 'Flying', 'Psychc', 'Bug', 'Rock', 'Ghost', 'Dragon', 'Dark', 'Steel', 'Fairy']"
   ]
  },
  {
   "cell_type": "code",
   "execution_count": 21,
   "metadata": {},
   "outputs": [
    {
     "name": "stdout",
     "output_type": "stream",
     "text": [
      "Normal\n",
      "Fire\n",
      "Water\n",
      "Electric\n",
      "Grass\n",
      "Ice\n",
      "Fight\n",
      "Poison\n",
      "Ground\n",
      "Flying\n",
      "Psychc\n",
      "Bug\n",
      "Rock\n",
      "Ghost\n",
      "Dragon\n",
      "Dark\n",
      "Steel\n",
      "Fairy\n"
     ]
    }
   ],
   "source": [
    "for i in elemental_types:\n",
    "    print(i.capitalize())"
   ]
  },
  {
   "cell_type": "code",
   "execution_count": null,
   "metadata": {},
   "outputs": [],
   "source": [
    "all_divs[1].find('td', string=re.compile(\"Base Stats - Total.*\")).find_next_siblings('td')"
   ]
  },
  {
   "cell_type": "code",
   "execution_count": null,
   "metadata": {},
   "outputs": [],
   "source": [
    "for i in foo_info[0]:\n",
    "    print(i.split())\n",
    "    a_tag = i.find('img')\n",
    "    print(a_tag)\n",
    "    type_text = a_tag['alt']\n",
    "    print(type_text)"
   ]
  },
  {
   "cell_type": "code",
   "execution_count": null,
   "metadata": {},
   "outputs": [],
   "source": [
    "type(foo_info[0].find(string='XD'))"
   ]
  },
  {
   "cell_type": "code",
   "execution_count": null,
   "metadata": {},
   "outputs": [],
   "source": [
    "ala = {'regional': 0}\n",
    "\n",
    "if 'regional' in ala:\n",
    "    print(ala)"
   ]
  },
  {
   "cell_type": "code",
   "execution_count": null,
   "metadata": {},
   "outputs": [],
   "source": [
    "m = Mega_Pokemon(x)"
   ]
  },
  {
   "cell_type": "code",
   "execution_count": null,
   "metadata": {},
   "outputs": [],
   "source": [
    "m.name()"
   ]
  },
  {
   "cell_type": "code",
   "execution_count": null,
   "metadata": {},
   "outputs": [],
   "source": [
    "m.m_name"
   ]
  },
  {
   "cell_type": "code",
   "execution_count": null,
   "metadata": {},
   "outputs": [],
   "source": [
    "s = all_divs[0].find_all('table', {'class': 'dextable'})"
   ]
  },
  {
   "cell_type": "code",
   "execution_count": null,
   "metadata": {},
   "outputs": [],
   "source": [
    "for i, table in enumerate(s):\n",
    "    if table.find('td', {'class': 'fooevo', 'colspan': '6'}):\n",
    "        print('existe')\n",
    "        print(i)"
   ]
  },
  {
   "cell_type": "code",
   "execution_count": null,
   "metadata": {},
   "outputs": [],
   "source": [
    "#Abilities\n",
    "ala = s[20].find_all('b')\n",
    "\n",
    "abilities = {'ability': []}\n",
    "\n",
    "process_ability(ala[2], abilities, None, None)\n"
   ]
  },
  {
   "cell_type": "code",
   "execution_count": null,
   "metadata": {},
   "outputs": [],
   "source": [
    "abilities"
   ]
  },
  {
   "cell_type": "code",
   "execution_count": null,
   "metadata": {},
   "outputs": [],
   "source": [
    "#Weakness\n",
    "types = []\n",
    "\n",
    "for td_tag in foo_info[0:18]:\n",
    "    a_tag = td_tag.find('img')\n",
    "    if a_tag:\n",
    "        type_text = a_tag['alt']\n",
    "        types.append(type_text)\n",
    "\n",
    "s = 'Attacking Move Type: ','-type'\n",
    "for string in s:\n",
    "    types = list(map(lambda x: x.replace(string,''),types))\n",
    "\n",
    "print(types)\n",
    "\n",
    "filtered = [tag for tag in foo_info[18:36] if '*' in tag.get_text(strip=True)]\n",
    "filtered_t = [i.text for i in filtered]\n",
    "val = list(map(lambda x: int(x.replace('*','')),filtered_t))"
   ]
  },
  {
   "cell_type": "code",
   "execution_count": null,
   "metadata": {},
   "outputs": [],
   "source": [
    "#Elemental Types\n",
    "tp = foo_info[0]\n",
    "types = []\n",
    "for tag in tp:\n",
    "    a_tag = tag.find('img')\n",
    "    print(a_tag)\n",
    "    type_text = a_tag['alt']\n",
    "    print(type_text)\n",
    "    types.append(type_text)\n",
    "\n",
    "s = 'Attacking Move Type: ','-type'\n",
    "for string in s:\n",
    "    types = list(map(lambda x: x.replace(string,''),types))"
   ]
  },
  {
   "cell_type": "code",
   "execution_count": null,
   "metadata": {},
   "outputs": [],
   "source": [
    "types"
   ]
  },
  {
   "cell_type": "code",
   "execution_count": null,
   "metadata": {},
   "outputs": [],
   "source": [
    "base_form = []\n",
    "form = []\n",
    "\n",
    "if foo_info[0].find(string='Normal'):\n",
    "    main = foo_info[0].find_all('td')\n",
    "\n",
    "    for index,tag in enumerate(main):\n",
    "        lazy = tag.text.strip()\n",
    "\n",
    "        if lazy == 'Normal':\n",
    "            basic = main[index+1].find('img')\n",
    "            type_text = basic['alt']\n",
    "            base_form.append(type_text)\n",
    "        elif lazy:\n",
    "            basic = main[index+1].find_all('img')\n",
    "            for e in basic:\n",
    "                type_text = e['alt']\n",
    "                form.append(type_text)"
   ]
  },
  {
   "cell_type": "code",
   "execution_count": null,
   "metadata": {},
   "outputs": [],
   "source": [
    "foo_info[0]"
   ]
  },
  {
   "cell_type": "code",
   "execution_count": null,
   "metadata": {},
   "outputs": [],
   "source": [
    "form"
   ]
  },
  {
   "cell_type": "code",
   "execution_count": null,
   "metadata": {},
   "outputs": [],
   "source": [
    "foo_info[0]"
   ]
  },
  {
   "cell_type": "code",
   "execution_count": null,
   "metadata": {},
   "outputs": [],
   "source": [
    "#Get al tables from the main center table\n",
    "tables = all_divs[0].find_all('table', {'class': 'dextable'})\n",
    "\n",
    "#Search for the line that contains <td class=\"fooevo\" colspan=\"6\">\n",
    "mega_evolution_position = -1\n",
    "counter = 0\n",
    "for i, table in enumerate(tables):\n",
    "    if table.find('td', {'class': 'fooevo', 'colspan': '6'}):\n",
    "        mega_evolution_position = i\n",
    "        print(i)\n",
    "        print(table)\n",
    "        break #Simulates return\n",
    "    else:\n",
    "        print('Does not have Mega')"
   ]
  },
  {
   "cell_type": "code",
   "execution_count": null,
   "metadata": {},
   "outputs": [],
   "source": [
    "#Mega Evolution Types\n",
    "t = tables[19].find('td', class_='cen')\n",
    "\n",
    "ty_val = []\n",
    "\n",
    "for i in t:\n",
    "    n = i.find('img')\n",
    "    if n and not isinstance(n,Tag):\n",
    "        continue\n",
    "    n = n['src']\n",
    "    for element in x.elemental_types:\n",
    "        ty = element.lower()\n",
    "        if ty in n:\n",
    "            ty_val.append(element)\n",
    "\n",
    "print(ty_val)"
   ]
  },
  {
   "cell_type": "code",
   "execution_count": null,
   "metadata": {},
   "outputs": [],
   "source": [
    "#Mega Evolution Weakness\n",
    "w = []\n",
    "\n",
    "if ty_val == x._elements:\n",
    "    pass\n",
    "else:\n",
    "    weak_location = tables[22].find('td', string=re.compile(\"Base Stats - Total.*\")).find_next_siblings('td')\n",
    "    filtered_types = list(filter(lambda x: '*' in x.text, weak_location.find_all('td', {'class': 'footype'})))\n",
    "    filtered = [tag.text for tag in filtered_types if '*' in tag.get_text(strip=True)]\n",
    "\n",
    "    val = list(map(lambda x: x.replace('*',''),filtered_t))\n",
    "\n",
    "    for i in val:\n",
    "        try:\n",
    "            w.append(int(i))\n",
    "        except ValueError:\n",
    "            w.append(float(i))\n",
    "\n",
    "    mega_weak = dict(zip(x.elemental_types,w))"
   ]
  }
 ],
 "metadata": {
  "kernelspec": {
   "display_name": "python_main",
   "language": "python",
   "name": "python3"
  },
  "language_info": {
   "codemirror_mode": {
    "name": "ipython",
    "version": 3
   },
   "file_extension": ".py",
   "mimetype": "text/x-python",
   "name": "python",
   "nbconvert_exporter": "python",
   "pygments_lexer": "ipython3",
   "version": "3.11.0"
  }
 },
 "nbformat": 4,
 "nbformat_minor": 2
}
