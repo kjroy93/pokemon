{
 "cells": [
  {
   "cell_type": "code",
   "execution_count": 1,
   "metadata": {},
   "outputs": [],
   "source": [
    "# Standard libraries of Python\n",
    "\n",
    "from time import gmtime\n",
    "\n",
    "# Dependencies\n",
    "import pandas as pd\n",
    "import requests\n",
    "import re\n",
    "from pandas import DataFrame\n",
    "from bs4 import BeautifulSoup\n",
    "from dataclasses import dataclass\n",
    "from selectolax.parser import HTMLParser\n",
    "from tqdm import tqdm\n",
    "\n",
    "from backend.database.src import src\n",
    "from backend.database.src.parse import process_hidden_ability,process_ability,process_form_ability"
   ]
  },
  {
   "cell_type": "code",
   "execution_count": null,
   "metadata": {},
   "outputs": [],
   "source": [
    "@dataclass\n",
    "class Pokemon:\n",
    "    name: str\n",
    "    gender: str\n",
    "    types: list"
   ]
  },
  {
   "cell_type": "code",
   "execution_count": null,
   "metadata": {},
   "outputs": [],
   "source": [
    "pokedex = []\n",
    "url = 'https://www.serebii.net/pokedex-sm/{}.shtml'.format(str(1).zfill(3))\n",
    "html = requests.get(url).text\n",
    "tree = HTMLParser(html)\n",
    "pokemon = Pokemon(name=tree.css_first('#content > main > div > div > table:nth-child(7) > tbody > tr:nth-child(2) > td:nth-child(1)').text(),\n",
    "            gender=tree.css_first('#content > main > div > div > table:nth-child(7) > tbody > tr:nth-child(2) > td:nth-child(4)').text(),\n",
    "            types=list(map(lambda x: x.attributes['alt'], tree.css('#content > main > div > div > table:nth-child(5) > tbody > tr:nth-child(2) > td.cen >> img'))))\n",
    "pokedex.append(pokemon)\n",
    "\n",
    "pd.DataFrame(pokedex)"
   ]
  },
  {
   "cell_type": "code",
   "execution_count": null,
   "metadata": {},
   "outputs": [],
   "source": [
    "# Ejemplo de uso\n",
    "html_text = requests.get(f'https://www.serebii.net/pokedex-swsh/growlithe').text\n",
    "soup = BeautifulSoup(html_text, 'html.parser')\n",
    "all_divs = soup.find_all('div', attrs={'align': 'center'})\n",
    "foo_info = all_divs[1].find_all('td', {'class': 'fooinfo'})[10]"
   ]
  },
  {
   "cell_type": "code",
   "execution_count": null,
   "metadata": {},
   "outputs": [],
   "source": [
    "ala = foo_info.find_all('b')\n",
    "\n",
    "abilities = {'ability': [], 'hidden_ability': []}\n",
    "form_abilities = {'ability': [], 'hidden_ability': []}\n",
    "skip_next_flag = False\n",
    "form_abilities_flag = False\n",
    "\n",
    "for tag in ala:\n",
    "    if skip_next_flag:\n",
    "        skip_next_flag = False\n",
    "        continue\n",
    "\n",
    "    if \"Hidden Ability\" in tag.text:\n",
    "        skip_next_flag = process_hidden_ability(tag, abilities, form_abilities, skip_next_flag, form_abilities_flag)\n",
    "    else:\n",
    "        form_abilities_flag = process_form_ability(tag, form_abilities_flag)\n",
    "        process_ability(tag, abilities, form_abilities, form_abilities_flag)\n",
    "\n",
    "form_abilities_flag = False"
   ]
  },
  {
   "cell_type": "code",
   "execution_count": null,
   "metadata": {},
   "outputs": [],
   "source": [
    "all_divs = soup.find_all('div', attrs={'align': 'center'})"
   ]
  },
  {
   "cell_type": "code",
   "execution_count": 2,
   "metadata": {},
   "outputs": [],
   "source": [
    "x = src.Pokemon(7,19)"
   ]
  },
  {
   "cell_type": "code",
   "execution_count": 4,
   "metadata": {},
   "outputs": [
    {
     "data": {
      "text/plain": [
       "3840"
      ]
     },
     "execution_count": 4,
     "metadata": {},
     "output_type": "execute_result"
    }
   ],
   "source": [
    "x._egg_steps"
   ]
  },
  {
   "cell_type": "code",
   "execution_count": null,
   "metadata": {},
   "outputs": [],
   "source": [
    "all_divs = x.soup.find_all('div', attrs={'align': 'center'})\n",
    "foo_info = all_divs[1].find_all('td', {'class': 'fooinfo'})"
   ]
  },
  {
   "cell_type": "code",
   "execution_count": null,
   "metadata": {},
   "outputs": [],
   "source": [
    "foo_info[9].text"
   ]
  },
  {
   "cell_type": "code",
   "execution_count": null,
   "metadata": {},
   "outputs": [],
   "source": [
    "ala = foo_info.find_all('b')"
   ]
  },
  {
   "cell_type": "code",
   "execution_count": null,
   "metadata": {},
   "outputs": [],
   "source": [
    "ala[3].next.next"
   ]
  },
  {
   "cell_type": "code",
   "execution_count": null,
   "metadata": {},
   "outputs": [],
   "source": [
    "abilities = {\n",
    "    'ability': [],\n",
    "    'hidden_ability': []\n",
    "}\n",
    "\n",
    "form_abilities = {\n",
    "    'ability': [],\n",
    "    'hidden_ability': []\n",
    "}\n",
    "\n",
    "skip_next_flag = False\n",
    "form_abilities_flag = False\n",
    "\n",
    "for tag in ala:\n",
    "    if skip_next_flag:\n",
    "        skip_next_flag = False\n",
    "        continue\n",
    "\n",
    "    if \"Hidden Ability\" in tag.text:\n",
    "        skip_next_flag = process_hidden_ability(tag, abilities, form_abilities, skip_next_flag, form_abilities_flag)\n",
    "    else:\n",
    "        form_abilities_flag = process_form_ability(tag, form_abilities_flag)\n",
    "        process_ability(tag, abilities, form_abilities, form_abilities_flag)\n",
    "\n",
    "# Restablecer la bandera después de procesar habilidades de Form\n",
    "form_abilities_flag = False\n",
    "\n",
    "# Mostrar el resultado\n",
    "print(\"Abilities:\", abilities)\n",
    "print(\"Form Abilities:\", form_abilities)"
   ]
  }
 ],
 "metadata": {
  "kernelspec": {
   "display_name": "python_main",
   "language": "python",
   "name": "python3"
  },
  "language_info": {
   "codemirror_mode": {
    "name": "ipython",
    "version": 3
   },
   "file_extension": ".py",
   "mimetype": "text/x-python",
   "name": "python",
   "nbconvert_exporter": "python",
   "pygments_lexer": "ipython3",
   "version": "3.11.0"
  }
 },
 "nbformat": 4,
 "nbformat_minor": 2
}
