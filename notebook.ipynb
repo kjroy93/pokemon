{
 "cells": [
  {
   "cell_type": "code",
   "execution_count": null,
   "metadata": {},
   "outputs": [],
   "source": [
    "# Standard libraries of Python\n",
    "\n",
    "from time import gmtime\n",
    "\n",
    "# Dependencies\n",
    "import pandas as pd\n",
    "import requests\n",
    "import re\n",
    "from pandas import DataFrame\n",
    "from bs4 import BeautifulSoup\n",
    "from dataclasses import dataclass\n",
    "from selectolax.parser import HTMLParser\n",
    "from tqdm import tqdm\n",
    "\n",
    "from backend.database.src import src\n",
    "from backend.database.src.parse import process_hidden_ability,process_ability,process_form_ability"
   ]
  },
  {
   "cell_type": "code",
   "execution_count": null,
   "metadata": {},
   "outputs": [],
   "source": [
    "@dataclass\n",
    "class Pokemon:\n",
    "    name: str\n",
    "    gender: str\n",
    "    types: list"
   ]
  },
  {
   "cell_type": "code",
   "execution_count": null,
   "metadata": {},
   "outputs": [],
   "source": [
    "pokedex = []\n",
    "url = 'https://www.serebii.net/pokedex-sm/{}.shtml'.format(str(1).zfill(3))\n",
    "html = requests.get(url).text\n",
    "tree = HTMLParser(html)\n",
    "pokemon = Pokemon(name=tree.css_first('#content > main > div > div > table:nth-child(7) > tbody > tr:nth-child(2) > td:nth-child(1)').text(),\n",
    "            gender=tree.css_first('#content > main > div > div > table:nth-child(7) > tbody > tr:nth-child(2) > td:nth-child(4)').text(),\n",
    "            types=list(map(lambda x: x.attributes['alt'], tree.css('#content > main > div > div > table:nth-child(5) > tbody > tr:nth-child(2) > td.cen >> img'))))\n",
    "pokedex.append(pokemon)\n",
    "\n",
    "pd.DataFrame(pokedex)"
   ]
  },
  {
   "cell_type": "code",
   "execution_count": null,
   "metadata": {},
   "outputs": [],
   "source": [
    "# Ejemplo de uso\n",
    "html_text = requests.get(f'https://www.serebii.net/pokedex-sm/001.shtml').text\n",
    "soup = BeautifulSoup(html_text, 'html.parser')\n",
    "all_divs = soup.find_all('div', attrs={'align': 'center'})\n",
    "foo_info = all_divs[0].find_all('td', {'class': 'fooevo'})"
   ]
  },
  {
   "cell_type": "code",
   "execution_count": null,
   "metadata": {},
   "outputs": [],
   "source": [
    "ala = foo_info.find_all('b')\n",
    "\n",
    "abilities = {'ability': [], 'hidden_ability': []}\n",
    "form_abilities = {'ability': [], 'hidden_ability': []}\n",
    "skip_next_flag = False\n",
    "form_abilities_flag = False\n",
    "\n",
    "for tag in ala:\n",
    "    if skip_next_flag:\n",
    "        skip_next_flag = False\n",
    "        continue\n",
    "\n",
    "    if \"Hidden Ability\" in tag.text:\n",
    "        skip_next_flag = process_hidden_ability(tag, abilities, form_abilities, skip_next_flag, form_abilities_flag)\n",
    "    else:\n",
    "        form_abilities_flag = process_form_ability(tag, form_abilities_flag)\n",
    "        process_ability(tag, abilities, form_abilities, form_abilities_flag)\n",
    "\n",
    "form_abilities_flag = False"
   ]
  },
  {
   "cell_type": "code",
   "execution_count": null,
   "metadata": {},
   "outputs": [],
   "source": [
    "#Weakness\n",
    "types = []\n",
    "\n",
    "for td_tag in foo_info:\n",
    "    a_tag = td_tag.find('img')\n",
    "    if a_tag:\n",
    "        type_text = a_tag['alt']\n",
    "        types.append(type_text)\n",
    "\n",
    "s = 'Attacking Move Type: ','-type'\n",
    "for string in s:\n",
    "    types = list(map(lambda x: x.replace(string,''),types))\n",
    "\n",
    "print(types)\n",
    "\n",
    "filtered = [tag for tag in foo_info if '*' in tag.get_text(strip=True)]\n",
    "filtered_t = [i.text for i in filtered]\n",
    "val = list(map(lambda x: int(x.replace('*','')),filtered_t))"
   ]
  },
  {
   "cell_type": "code",
   "execution_count": null,
   "metadata": {},
   "outputs": [],
   "source": [
    "all_divs = soup.find_all('div', attrs={'align': 'center'})"
   ]
  },
  {
   "cell_type": "code",
   "execution_count": null,
   "metadata": {},
   "outputs": [],
   "source": [
    "x = src.Pokemon(7,6)"
   ]
  },
  {
   "cell_type": "code",
   "execution_count": null,
   "metadata": {},
   "outputs": [],
   "source": [
    "x._weakness"
   ]
  },
  {
   "cell_type": "code",
   "execution_count": null,
   "metadata": {},
   "outputs": [],
   "source": [
    "all_divs = x.soup.find_all('div', attrs={'align': 'center'})\n",
    "foo_info = all_divs[0].find_all('td', {'class': 'fooinfo'})"
   ]
  },
  {
   "cell_type": "code",
   "execution_count": null,
   "metadata": {},
   "outputs": [],
   "source": [
    "bases = all_divs[0].find('td', string=re.compile(\"Base Stats - Total.*\")).find_next_siblings('td')"
   ]
  },
  {
   "cell_type": "code",
   "execution_count": null,
   "metadata": {},
   "outputs": [],
   "source": [
    "all_divs[0]"
   ]
  },
  {
   "cell_type": "code",
   "execution_count": null,
   "metadata": {},
   "outputs": [],
   "source": [
    "# Supongamos que 'x' es tu objeto que contiene el BeautifulSoup y 'all_divs' es la lista de divs\n",
    "mega_evolution_line = None\n",
    "\n",
    "# Buscar la línea que contiene la información sobre Mega Evolution\n",
    "for div in all_divs:\n",
    "    mega_evolution_td = div.find('td', {'class': 'fooevo', 'colspan': '6'})\n",
    "    \n",
    "    if mega_evolution_td:\n",
    "        mega_evolution_line = mega_evolution_td\n",
    "        break\n",
    "\n",
    "# Verificar si se encontró la línea de Mega Evolution\n",
    "if mega_evolution_line:\n",
    "    # Ahora puedes obtener el contenido que está debajo de esa línea\n",
    "    content_below_mega_evolution = mega_evolution_line.find_next_siblings()\n",
    "    \n",
    "    # Imprimir el contenido\n",
    "    for element in content_below_mega_evolution:\n",
    "        print(element)\n",
    "else:\n",
    "    print(\"No se encontró información sobre Mega Evolution.\")"
   ]
  },
  {
   "cell_type": "code",
   "execution_count": null,
   "metadata": {},
   "outputs": [],
   "source": [
    "tables = all_divs[0].find_all('table', {'class': 'dextable'})"
   ]
  },
  {
   "cell_type": "code",
   "execution_count": null,
   "metadata": {},
   "outputs": [],
   "source": [
    "for p,table in enumerate(tables):\n",
    "    print(p)\n",
    "    print(table.find_all('td', {'class': 'fooevo', 'colspan': '6'}))"
   ]
  },
  {
   "cell_type": "code",
   "execution_count": null,
   "metadata": {},
   "outputs": [],
   "source": [
    "# Buscar todas las tablas en el primer div\n",
    "tables = all_divs[0].find_all('table', {'class': 'dextable'})\n",
    "\n",
    "# Buscar la posición exacta de la línea con <td class=\"fooevo\" colspan=\"6\">\n",
    "mega_evolution_position = -1\n",
    "for i, table in enumerate(tables):\n",
    "    if table.find('td', {'class': 'fooevo', 'colspan': '6'}):\n",
    "        mega_evolution_position = i\n",
    "        print(i)\n",
    "        break"
   ]
  },
  {
   "cell_type": "code",
   "execution_count": null,
   "metadata": {},
   "outputs": [],
   "source": [
    "k = tables[19]"
   ]
  },
  {
   "cell_type": "code",
   "execution_count": null,
   "metadata": {},
   "outputs": [],
   "source": [
    "tables[19].find_all('td', class_='fooinfo')[5]"
   ]
  }
 ],
 "metadata": {
  "kernelspec": {
   "display_name": "python_main",
   "language": "python",
   "name": "python3"
  },
  "language_info": {
   "codemirror_mode": {
    "name": "ipython",
    "version": 3
   },
   "file_extension": ".py",
   "mimetype": "text/x-python",
   "name": "python",
   "nbconvert_exporter": "python",
   "pygments_lexer": "ipython3",
   "version": "3.11.0"
  }
 },
 "nbformat": 4,
 "nbformat_minor": 2
}
