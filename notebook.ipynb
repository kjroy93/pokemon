{
 "cells": [
  {
   "cell_type": "code",
   "execution_count": null,
   "metadata": {},
   "outputs": [],
   "source": [
    "# Standard libraries of Python\n",
    "import re\n",
    "\n",
    "# Dependencies\n",
    "import numpy as np\n",
    "import pandas as pd\n",
    "import requests\n",
    "\n",
    "from bs4 import BeautifulSoup,Tag\n",
    "from dataclasses import dataclass\n",
    "from selectolax.parser import HTMLParser\n",
    "\n",
    "# Libraries\n",
    "from backend.database.src.creature import Pokemon, Mega_Pokemon\n",
    "from backend.database.src import parse"
   ]
  },
  {
   "cell_type": "code",
   "execution_count": null,
   "metadata": {},
   "outputs": [],
   "source": [
    "# Class for selectolax scrap\n",
    "# @dataclass\n",
    "# class Pokemon:\n",
    "#     name: str\n",
    "#     gender: str\n",
    "#     types: list"
   ]
  },
  {
   "cell_type": "code",
   "execution_count": null,
   "metadata": {},
   "outputs": [],
   "source": [
    "#Selecto scrap\n",
    "pokedex = []\n",
    "url = 'https://www.serebii.net/pokedex-sm/{}.shtml'.format(str(1).zfill(3))\n",
    "html = requests.get(url).text\n",
    "tree = HTMLParser(html)\n",
    "pokemon = Pokemon(name=tree.css_first('#content > main > div > div > table:nth-child(7) > tbody > tr:nth-child(2) > td:nth-child(1)').text(),\n",
    "            gender=tree.css_first('#content > main > div > div > table:nth-child(7) > tbody > tr:nth-child(2) > td:nth-child(4)').text(),\n",
    "            types=list(map(lambda x: x.attributes['alt'], tree.css('#content > main > div > div > table:nth-child(5) > tbody > tr:nth-child(2) > td.cen >> img'))))\n",
    "pokedex.append(pokemon)\n",
    "\n",
    "pd.DataFrame(pokedex)"
   ]
  },
  {
   "cell_type": "code",
   "execution_count": null,
   "metadata": {},
   "outputs": [],
   "source": [
    "#Examble of use with bs4\n",
    "html_text = requests.get(f'https://www.serebii.net/pokedex-xy/006.shtml').text\n",
    "soup = BeautifulSoup(html_text, 'html.parser')\n",
    "all_divs = soup.find_all('div', attrs={'align': 'center'})\n",
    "foo_info = all_divs[0].find_all('td', {'class': 'footype'})"
   ]
  },
  {
   "cell_type": "code",
   "execution_count": null,
   "metadata": {},
   "outputs": [],
   "source": [
    "# Class test\n",
    "x = Pokemon(8,'raichu')\n",
    "\n",
    "all_divs = x.soup.find_all('div', attrs={'align': 'center'})\n",
    "foo_info = all_divs[1].find_all('table', {'class': 'dextable'})\n",
    "\n",
    "x.name()"
   ]
  },
  {
   "cell_type": "code",
   "execution_count": null,
   "metadata": {},
   "outputs": [],
   "source": [
    "foo_info[15].find_all('td')"
   ]
  },
  {
   "cell_type": "code",
   "execution_count": null,
   "metadata": {},
   "outputs": [],
   "source": [
    "info = []\n",
    "for i in foo_info[15].find_all('td'):\n",
    "    info.append(i)"
   ]
  },
  {
   "cell_type": "code",
   "execution_count": null,
   "metadata": {},
   "outputs": [],
   "source": [
    "data = info[1:]\n",
    "org = [item for sublist in data for item in sublist]\n",
    "reshape = [\n",
    "    org[i:i+9]\n",
    "    for i in range(0,len(org),9)\n",
    "]"
   ]
  },
  {
   "cell_type": "code",
   "execution_count": null,
   "metadata": {},
   "outputs": [],
   "source": [
    "for n,i in enumerate(org):\n",
    "    print(n,i)"
   ]
  },
  {
   "cell_type": "code",
   "execution_count": null,
   "metadata": {},
   "outputs": [],
   "source": [
    "# Egg moves in case of regional form pokémon, for the 8th generation, excluding BDSP (org_2)\n",
    "# Class test\n",
    "x = Pokemon(8,'raichu')\n",
    "\n",
    "all_divs = x.soup.find_all('div', attrs={'align': 'center'})\n",
    "foo_info = all_divs[1].find_all('table', {'class': 'dextable'})\n",
    "\n",
    "x.name()\n",
    "\n",
    "info = []\n",
    "for i in foo_info[15].find_all('td'):\n",
    "    info.append(i)\n",
    "\n",
    "data = info[1:]\n",
    "org = [item for sublist in data for item in sublist]\n",
    "reference = []\n",
    "\n",
    "n = 7\n",
    "while n < len(org):\n",
    "    html = str(org[n])\n",
    "    soup = BeautifulSoup(html, 'html.parser')\n",
    "\n",
    "    img_tag = soup.find_all('img')\n",
    "    if img_tag:\n",
    "        values = [img.get('alt') for img in img_tag]\n",
    "        del org[n]\n",
    "\n",
    "        for pos,value in enumerate(values):\n",
    "            if pos < 1:\n",
    "                org.insert(n,value)\n",
    "            else:\n",
    "                org.insert(n+1,value)\n",
    "\n",
    "        n += 10\n",
    "    elif org[n].text == 'Details':\n",
    "        del org[n]\n",
    "        reference.append(n-7)\n",
    "        print(reference)\n",
    "        n += 8\n",
    "    else:\n",
    "        n -= 7\n",
    "        break\n",
    "\n",
    "n_org = org[0:reference[0]]\n",
    "org_2 = org[reference[0]:reference[-1]]\n",
    "\n",
    "shape = [n_org[i:i+10] for i in range(0,len(n_org),10)]\n",
    "df = pd.DataFrame(shape)"
   ]
  },
  {
   "cell_type": "code",
   "execution_count": null,
   "metadata": {},
   "outputs": [],
   "source": [
    "org_2"
   ]
  },
  {
   "cell_type": "code",
   "execution_count": null,
   "metadata": {},
   "outputs": [],
   "source": [
    "x = Pokemon(8,'raichu')\n",
    "\n",
    "all_divs = x.soup.find_all('div', attrs={'align': 'center'})\n",
    "foo_info = all_divs[1].find_all('table', {'class': 'dextable'})\n",
    "\n",
    "x.name()\n",
    "\n",
    "info = []\n",
    "for i in foo_info[12].find_all('td'):\n",
    "    info.append(i)\n",
    "\n",
    "data = info[1:]\n",
    "org = [item for sublist in data for item in sublist]\n",
    "\n",
    "df = []\n",
    "org = list(filter(lambda x: 'table' not in str(x[1]), enumerate(org)))\n",
    "org = list(map(lambda x: x[1], org))\n",
    "\n",
    "i = 0\n",
    "while i < len(org):\n",
    "    if hasattr(org[i+9],'get'):\n",
    "        l = 11 if i == 0 or isinstance(org[i+9].get('alt',''),str) else 10\n",
    "    else:\n",
    "        l = 10\n",
    "\n",
    "    if l == 10 and any(word in org[i+8].get('alt','') for word in ['Alolan', 'Galarian', 'Hisuian', 'Paldean', 'Normal']):\n",
    "        fix = org[i:i+l]\n",
    "        fix.insert(8 if 'Form' in org[i+8].get('alt','') else 9, 'N/A')\n",
    "        df.extend([fix])\n",
    "    else:\n",
    "        df.extend([org[i:i+l]])\n",
    "    i += l\n",
    "\n",
    "df = pd.DataFrame(df)"
   ]
  },
  {
   "cell_type": "code",
   "execution_count": null,
   "metadata": {},
   "outputs": [],
   "source": [
    "data = info[1:]\n",
    "to_fill = []\n",
    "\n",
    "i = 0\n",
    "while i < len(data):\n",
    "    l = 11 if i == 0 or isinstance(data[i+9],str) else 10\n",
    "    to_fill.extend([data[i:i+l]])\n",
    "    i += l\n",
    "\n",
    "    print(i)"
   ]
  },
  {
   "cell_type": "code",
   "execution_count": null,
   "metadata": {},
   "outputs": [],
   "source": [
    "all_divs[1].find('td', string=re.compile(\"Base Stats - Total.*\")).find_next_siblings('td')"
   ]
  },
  {
   "cell_type": "code",
   "execution_count": null,
   "metadata": {},
   "outputs": [],
   "source": [
    "m = Mega_Pokemon(x)"
   ]
  },
  {
   "cell_type": "code",
   "execution_count": null,
   "metadata": {},
   "outputs": [],
   "source": [
    "m.name()"
   ]
  },
  {
   "cell_type": "code",
   "execution_count": null,
   "metadata": {},
   "outputs": [],
   "source": [
    "m.m_name"
   ]
  },
  {
   "cell_type": "code",
   "execution_count": null,
   "metadata": {},
   "outputs": [],
   "source": [
    "s = all_divs[0].find_all('table', {'class': 'dextable'})"
   ]
  },
  {
   "cell_type": "code",
   "execution_count": null,
   "metadata": {},
   "outputs": [],
   "source": [
    "for i, table in enumerate(s):\n",
    "    if table.find('td', {'class': 'fooevo', 'colspan': '6'}):\n",
    "        print('existe')\n",
    "        print(i)"
   ]
  },
  {
   "cell_type": "code",
   "execution_count": null,
   "metadata": {},
   "outputs": [],
   "source": [
    "#Weakness\n",
    "types = []\n",
    "\n",
    "for td_tag in foo_info[0:18]:\n",
    "    a_tag = td_tag.find('img')\n",
    "    if a_tag:\n",
    "        type_text = a_tag['alt']\n",
    "        types.append(type_text)\n",
    "\n",
    "s = 'Attacking Move Type: ','-type'\n",
    "for string in s:\n",
    "    types = list(map(lambda x: x.replace(string,''),types))\n",
    "\n",
    "print(types)\n",
    "\n",
    "filtered = [tag for tag in foo_info[18:36] if '*' in tag.get_text(strip=True)]\n",
    "filtered_t = [i.text for i in filtered]\n",
    "val = list(map(lambda x: int(x.replace('*','')),filtered_t))"
   ]
  },
  {
   "cell_type": "code",
   "execution_count": null,
   "metadata": {},
   "outputs": [],
   "source": [
    "#Elemental Types\n",
    "tp = foo_info[0]\n",
    "types = []\n",
    "for tag in tp:\n",
    "    a_tag = tag.find('img')\n",
    "    print(a_tag)\n",
    "    type_text = a_tag['alt']\n",
    "    print(type_text)\n",
    "    types.append(type_text)\n",
    "\n",
    "s = 'Attacking Move Type: ','-type'\n",
    "for string in s:\n",
    "    types = list(map(lambda x: x.replace(string,''),types))"
   ]
  },
  {
   "cell_type": "code",
   "execution_count": null,
   "metadata": {},
   "outputs": [],
   "source": [
    "base_form = []\n",
    "form = []\n",
    "\n",
    "if foo_info[0].find(string='Normal'):\n",
    "    main = foo_info[0].find_all('td')\n",
    "\n",
    "    for index,tag in enumerate(main):\n",
    "        lazy = tag.text.strip()\n",
    "\n",
    "        if lazy == 'Normal':\n",
    "            basic = main[index+1].find('img')\n",
    "            type_text = basic['alt']\n",
    "            base_form.append(type_text)\n",
    "        elif lazy:\n",
    "            basic = main[index+1].find_all('img')\n",
    "            for e in basic:\n",
    "                type_text = e['alt']\n",
    "                form.append(type_text)"
   ]
  },
  {
   "cell_type": "code",
   "execution_count": null,
   "metadata": {},
   "outputs": [],
   "source": [
    "#Get al tables from the main center table\n",
    "tables = all_divs[0].find_all('table', {'class': 'dextable'})\n",
    "\n",
    "#Search for the line that contains <td class=\"fooevo\" colspan=\"6\">\n",
    "mega_evolution_position = -1\n",
    "counter = 0\n",
    "for i, table in enumerate(tables):\n",
    "    if table.find('td', {'class': 'fooevo', 'colspan': '6'}):\n",
    "        mega_evolution_position = i\n",
    "        print(i)\n",
    "        print(table)\n",
    "        break #Simulates return\n",
    "    else:\n",
    "        print('Does not have Mega')"
   ]
  },
  {
   "cell_type": "code",
   "execution_count": null,
   "metadata": {},
   "outputs": [],
   "source": [
    "#Mega Evolution Types\n",
    "t = tables[19].find('td', class_='cen')\n",
    "\n",
    "ty_val = []\n",
    "\n",
    "for i in t:\n",
    "    n = i.find('img')\n",
    "    if n and not isinstance(n,Tag):\n",
    "        continue\n",
    "    n = n['src']\n",
    "    for element in x.elemental_types:\n",
    "        ty = element.lower()\n",
    "        if ty in n:\n",
    "            ty_val.append(element)\n",
    "\n",
    "print(ty_val)"
   ]
  },
  {
   "cell_type": "code",
   "execution_count": null,
   "metadata": {},
   "outputs": [],
   "source": [
    "#Mega Evolution Weakness\n",
    "w = []\n",
    "\n",
    "if ty_val == x._elements:\n",
    "    pass\n",
    "else:\n",
    "    weak_location = tables[22].find('td', string=re.compile(\"Base Stats - Total.*\")).find_next_siblings('td')\n",
    "    filtered_types = list(filter(lambda x: '*' in x.text, weak_location.find_all('td', {'class': 'footype'})))\n",
    "    filtered = [tag.text for tag in filtered_types if '*' in tag.get_text(strip=True)]\n",
    "\n",
    "    val = list(map(lambda x: x.replace('*',''),filtered_t))\n",
    "\n",
    "    for i in val:\n",
    "        try:\n",
    "            w.append(int(i))\n",
    "        except ValueError:\n",
    "            w.append(float(i))\n",
    "\n",
    "    mega_weak = dict(zip(x.elemental_types,w))"
   ]
  }
 ],
 "metadata": {
  "kernelspec": {
   "display_name": "python_main",
   "language": "python",
   "name": "python3"
  },
  "language_info": {
   "codemirror_mode": {
    "name": "ipython",
    "version": 3
   },
   "file_extension": ".py",
   "mimetype": "text/x-python",
   "name": "python",
   "nbconvert_exporter": "python",
   "pygments_lexer": "ipython3",
   "version": "3.11.4"
  }
 },
 "nbformat": 4,
 "nbformat_minor": 2
}
