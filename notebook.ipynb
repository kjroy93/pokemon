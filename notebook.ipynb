{
 "cells": [
  {
   "cell_type": "code",
   "execution_count": 1,
   "metadata": {},
   "outputs": [],
   "source": [
    "# Standard libraries of Python\n",
    "from more_itertools import chunked\n",
    "import re\n",
    "\n",
    "# Dependencies\n",
    "import pandas as pd\n",
    "import requests\n",
    "\n",
    "from bs4 import BeautifulSoup,Tag\n",
    "# from dataclasses import dataclass\n",
    "from selectolax.parser import HTMLParser\n",
    "from tqdm import tqdm\n",
    "\n",
    "# Libraries\n",
    "from backend.database.src.src import Pokemon, Mega_Pokemon\n",
    "from backend.database.src.parse import process_hidden_ability,process_form_ability,process_ability,elements_atk"
   ]
  },
  {
   "cell_type": "code",
   "execution_count": null,
   "metadata": {},
   "outputs": [],
   "source": [
    "# Class for selectolax scrap\n",
    "# @dataclass\n",
    "# class Pokemon:\n",
    "#     name: str\n",
    "#     gender: str\n",
    "#     types: list"
   ]
  },
  {
   "cell_type": "code",
   "execution_count": null,
   "metadata": {},
   "outputs": [],
   "source": [
    "#Selecto scrap\n",
    "pokedex = []\n",
    "url = 'https://www.serebii.net/pokedex-sm/{}.shtml'.format(str(1).zfill(3))\n",
    "html = requests.get(url).text\n",
    "tree = HTMLParser(html)\n",
    "pokemon = Pokemon(name=tree.css_first('#content > main > div > div > table:nth-child(7) > tbody > tr:nth-child(2) > td:nth-child(1)').text(),\n",
    "            gender=tree.css_first('#content > main > div > div > table:nth-child(7) > tbody > tr:nth-child(2) > td:nth-child(4)').text(),\n",
    "            types=list(map(lambda x: x.attributes['alt'], tree.css('#content > main > div > div > table:nth-child(5) > tbody > tr:nth-child(2) > td.cen >> img'))))\n",
    "pokedex.append(pokemon)\n",
    "\n",
    "pd.DataFrame(pokedex)"
   ]
  },
  {
   "cell_type": "code",
   "execution_count": null,
   "metadata": {},
   "outputs": [],
   "source": [
    "#Examble of use with bs4\n",
    "html_text = requests.get(f'https://www.serebii.net/pokedex-xy/006.shtml').text\n",
    "soup = BeautifulSoup(html_text, 'html.parser')\n",
    "all_divs = soup.find_all('div', attrs={'align': 'center'})\n",
    "foo_info = all_divs[0].find_all('td', {'class': 'footype'})"
   ]
  },
  {
   "cell_type": "code",
   "execution_count": null,
   "metadata": {},
   "outputs": [],
   "source": [
    "for tag in foo_info:\n",
    "    a_tag = tag.find('img')\n",
    "    text = a_tag['src']\n",
    "    if 'normal' in text:\n",
    "        print('esta')\n",
    "    else:\n",
    "        print('xd')"
   ]
  },
  {
   "cell_type": "code",
   "execution_count": 2,
   "metadata": {},
   "outputs": [],
   "source": [
    "# Class test\n",
    "x = Pokemon(7,6)\n",
    "\n",
    "all_divs = x.soup.find_all('div', attrs={'align': 'center'})\n",
    "foo_info = all_divs[0].find_all('table', {'class': 'dextable'})\n",
    "\n",
    "x.name()"
   ]
  },
  {
   "cell_type": "code",
   "execution_count": null,
   "metadata": {},
   "outputs": [],
   "source": [
    "x.weakness()"
   ]
  },
  {
   "cell_type": "code",
   "execution_count": null,
   "metadata": {},
   "outputs": [],
   "source": [
    "for n,i in enumerate(foo_info[8].find_all('td')):\n",
    "    print(n,i)"
   ]
  },
  {
   "cell_type": "code",
   "execution_count": 94,
   "metadata": {},
   "outputs": [],
   "source": [
    "list_elements = []\n",
    "info = []\n",
    "for n,i in enumerate(foo_info[8].find_all('td')):\n",
    "    list_elements.append(n)\n",
    "    info.append(i)"
   ]
  },
  {
   "cell_type": "code",
   "execution_count": 95,
   "metadata": {},
   "outputs": [
    {
     "name": "stdout",
     "output_type": "stream",
     "text": [
      "[[1, 2, 3, 4, 5, 6, 7, 8, 9], [10, 11, 12, 13, 14, 15, 16, 17, 18], [19, 20, 21, 22, 23, 24, 25, 26, 27], [28, 29, 30, 31, 32, 33, 34, 35, 36], [37, 38, 39, 40, 41, 42, 43, 44, 45], [46, 47, 48, 49, 50, 51, 52, 53, 54], [55, 56, 57, 58, 59, 60, 61, 62, 63], [64, 65, 66, 67, 68, 69, 70, 71, 72], [73, 74, 75, 76, 77, 78, 79, 80, 81], [82, 83, 84, 85, 86, 87, 88, 89, 90], [91, 92, 93, 94, 95, 96, 97, 98, 99], [100, 101, 102, 103, 104, 105, 106, 107, 108], [109, 110, 111, 112, 113, 114, 115, 116, 117], [118, 119, 120, 121, 122, 123, 124, 125, 126], [127, 128, 129, 130, 131, 132, 133, 134, 135], [136, 137, 138, 139, 140, 141, 142, 143, 144], [145, 146, 147, 148, 149, 150, 151, 152, 153], [154, 155, 156, 157, 158, 159, 160, 161, 162], [163, 164, 165, 166, 167, 168, 169, 170, 171], [172, 173, 174, 175, 176, 177, 178, 179, 180], [181, 182, 183, 184, 185, 186, 187, 188, 189]]\n",
      "[[<td class=\"fooinfo\" rowspan=\"2\">Evolve</td>, <td class=\"fooinfo\" rowspan=\"2\"><a href=\"/attackdex-sm/wingattack.shtml\">Wing Attack</a></td>, <td class=\"cen\"><img alt=\"Wing Attack - Flying-type\" src=\"/pokedex-bw/type/flying.gif\"/></td>, <td class=\"cen\"><img alt=\"Wing Attack: Physical Move\" src=\"/pokedex-bw/type/physical.png\"/></td>, <td class=\"cen\">60</td>, <td class=\"cen\">100</td>, <td class=\"cen\">35</td>, <td class=\"cen\">--</td>, <td class=\"fooinfo\" colspan=\"8\">The target is struck with large, imposing wings spread wide to inflict damage.</td>], [<td class=\"fooinfo\" rowspan=\"2\">—</td>, <td class=\"fooinfo\" rowspan=\"2\"><a href=\"/attackdex-sm/flareblitz.shtml\">Flare Blitz</a></td>, <td class=\"cen\"><img alt=\"Flare Blitz - Fire-type\" src=\"/pokedex-bw/type/fire.gif\"/></td>, <td class=\"cen\"><img alt=\"Flare Blitz: Physical Move\" src=\"/pokedex-bw/type/physical.png\"/></td>, <td class=\"cen\">120</td>, <td class=\"cen\">100</td>, <td class=\"cen\">15</td>, <td class=\"cen\">10</td>, <td class=\"fooinfo\" colspan=\"8\">The user cloaks itself in fire and charges the target. This also damages the user quite a lot. This attack may leave the target with a burn.</td>], [<td class=\"fooinfo\" rowspan=\"2\">—</td>, <td class=\"fooinfo\" rowspan=\"2\"><a href=\"/attackdex-sm/heatwave.shtml\">Heat Wave</a></td>, <td class=\"cen\"><img alt=\"Heat Wave - Fire-type\" src=\"/pokedex-bw/type/fire.gif\"/></td>, <td class=\"cen\"><img alt=\"Heat Wave: Special Move\" src=\"/pokedex-bw/type/special.png\"/></td>, <td class=\"cen\">95</td>, <td class=\"cen\">90</td>, <td class=\"cen\">10</td>, <td class=\"cen\">10</td>, <td class=\"fooinfo\" colspan=\"8\">The user attacks by exhaling hot breath on the opposing Pokémon. This may also leave those Pokémon with a burn.</td>], [<td class=\"fooinfo\" rowspan=\"2\">—</td>, <td class=\"fooinfo\" rowspan=\"2\"><a href=\"/attackdex-sm/dragonclaw.shtml\">Dragon Claw</a></td>, <td class=\"cen\"><img alt=\"Dragon Claw - Dragon-type\" src=\"/pokedex-bw/type/dragon.gif\"/></td>, <td class=\"cen\"><img alt=\"Dragon Claw: Physical Move\" src=\"/pokedex-bw/type/physical.png\"/></td>, <td class=\"cen\">80</td>, <td class=\"cen\">100</td>, <td class=\"cen\">15</td>, <td class=\"cen\">--</td>, <td class=\"fooinfo\" colspan=\"8\">The user slashes the target with huge sharp claws.</td>], [<td class=\"fooinfo\" rowspan=\"2\">—</td>, <td class=\"fooinfo\" rowspan=\"2\"><a href=\"/attackdex-sm/shadowclaw.shtml\">Shadow Claw</a></td>, <td class=\"cen\"><img alt=\"Shadow Claw - Ghost-type\" src=\"/pokedex-bw/type/ghost.gif\"/></td>, <td class=\"cen\"><img alt=\"Shadow Claw: Physical Move\" src=\"/pokedex-bw/type/physical.png\"/></td>, <td class=\"cen\">70</td>, <td class=\"cen\">100</td>, <td class=\"cen\">15</td>, <td class=\"cen\">--</td>, <td class=\"fooinfo\" colspan=\"8\">The user slashes with a sharp claw made from shadows. Critical hits land more easily.</td>], [<td class=\"fooinfo\" rowspan=\"2\">—</td>, <td class=\"fooinfo\" rowspan=\"2\"><a href=\"/attackdex-sm/airslash.shtml\">Air Slash</a></td>, <td class=\"cen\"><img alt=\"Air Slash - Flying-type\" src=\"/pokedex-bw/type/flying.gif\"/></td>, <td class=\"cen\"><img alt=\"Air Slash: Special Move\" src=\"/pokedex-bw/type/special.png\"/></td>, <td class=\"cen\">75</td>, <td class=\"cen\">95</td>, <td class=\"cen\">15</td>, <td class=\"cen\">30</td>, <td class=\"fooinfo\" colspan=\"8\">The user attacks with a blade of air that slices even the sky. This may also make the target flinch.</td>], [<td class=\"fooinfo\" rowspan=\"2\">—</td>, <td class=\"fooinfo\" rowspan=\"2\"><a href=\"/attackdex-sm/scratch.shtml\">Scratch</a></td>, <td class=\"cen\"><img alt=\"Scratch - Normal-type\" src=\"/pokedex-bw/type/normal.gif\"/></td>, <td class=\"cen\"><img alt=\"Scratch: Physical Move\" src=\"/pokedex-bw/type/physical.png\"/></td>, <td class=\"cen\">40</td>, <td class=\"cen\">100</td>, <td class=\"cen\">35</td>, <td class=\"cen\">--</td>, <td class=\"fooinfo\" colspan=\"8\">Hard, pointed, sharp claws rake the target to inflict damage.</td>], [<td class=\"fooinfo\" rowspan=\"2\">—</td>, <td class=\"fooinfo\" rowspan=\"2\"><a href=\"/attackdex-sm/growl.shtml\">Growl</a></td>, <td class=\"cen\"><img alt=\"Growl - Normal-type\" src=\"/pokedex-bw/type/normal.gif\"/></td>, <td class=\"cen\"><img alt=\"Growl: Other Move\" src=\"/pokedex-bw/type/other.png\"/></td>, <td class=\"cen\">--</td>, <td class=\"cen\">100</td>, <td class=\"cen\">40</td>, <td class=\"cen\">--</td>, <td class=\"fooinfo\" colspan=\"8\">The user growls in an endearing way, making opposing Pokémon less wary. This lowers their Attack stat.</td>], [<td class=\"fooinfo\" rowspan=\"2\">—</td>, <td class=\"fooinfo\" rowspan=\"2\"><a href=\"/attackdex-sm/ember.shtml\">Ember</a></td>, <td class=\"cen\"><img alt=\"Ember - Fire-type\" src=\"/pokedex-bw/type/fire.gif\"/></td>, <td class=\"cen\"><img alt=\"Ember: Special Move\" src=\"/pokedex-bw/type/special.png\"/></td>, <td class=\"cen\">40</td>, <td class=\"cen\">100</td>, <td class=\"cen\">25</td>, <td class=\"cen\">10</td>, <td class=\"fooinfo\" colspan=\"8\">The target is attacked with small flames. This may also leave the target with a burn.</td>], [<td class=\"fooinfo\" rowspan=\"2\">7</td>, <td class=\"fooinfo\" rowspan=\"2\"><a href=\"/attackdex-sm/ember.shtml\">Ember</a></td>, <td class=\"cen\"><img alt=\"Ember - Fire-type\" src=\"/pokedex-bw/type/fire.gif\"/></td>, <td class=\"cen\"><img alt=\"Ember: Special Move\" src=\"/pokedex-bw/type/special.png\"/></td>, <td class=\"cen\">40</td>, <td class=\"cen\">100</td>, <td class=\"cen\">25</td>, <td class=\"cen\">10</td>, <td class=\"fooinfo\" colspan=\"8\">The target is attacked with small flames. This may also leave the target with a burn.</td>], [<td class=\"fooinfo\" rowspan=\"2\">10</td>, <td class=\"fooinfo\" rowspan=\"2\"><a href=\"/attackdex-sm/smokescreen.shtml\">Smokescreen</a></td>, <td class=\"cen\"><img alt=\"Smokescreen - Normal-type\" src=\"/pokedex-bw/type/normal.gif\"/></td>, <td class=\"cen\"><img alt=\"Smokescreen: Other Move\" src=\"/pokedex-bw/type/other.png\"/></td>, <td class=\"cen\">--</td>, <td class=\"cen\">100</td>, <td class=\"cen\">20</td>, <td class=\"cen\">--</td>, <td class=\"fooinfo\" colspan=\"8\">The user releases an obscuring cloud of smoke or ink. This lowers the target's accuracy.</td>], [<td class=\"fooinfo\" rowspan=\"2\">17</td>, <td class=\"fooinfo\" rowspan=\"2\"><a href=\"/attackdex-sm/dragonrage.shtml\">Dragon Rage</a></td>, <td class=\"cen\"><img alt=\"Dragon Rage - Dragon-type\" src=\"/pokedex-bw/type/dragon.gif\"/></td>, <td class=\"cen\"><img alt=\"Dragon Rage: Special Move\" src=\"/pokedex-bw/type/special.png\"/></td>, <td class=\"cen\">??</td>, <td class=\"cen\">100</td>, <td class=\"cen\">10</td>, <td class=\"cen\">--</td>, <td class=\"fooinfo\" colspan=\"8\">This attack hits the target with a shock wave of pure rage. This attack always inflicts 40 HP damage.</td>], [<td class=\"fooinfo\" rowspan=\"2\">21</td>, <td class=\"fooinfo\" rowspan=\"2\"><a href=\"/attackdex-sm/scaryface.shtml\">Scary Face</a></td>, <td class=\"cen\"><img alt=\"Scary Face - Normal-type\" src=\"/pokedex-bw/type/normal.gif\"/></td>, <td class=\"cen\"><img alt=\"Scary Face: Other Move\" src=\"/pokedex-bw/type/other.png\"/></td>, <td class=\"cen\">--</td>, <td class=\"cen\">100</td>, <td class=\"cen\">10</td>, <td class=\"cen\">--</td>, <td class=\"fooinfo\" colspan=\"8\">The user frightens the target with a scary face to harshly lower its Speed stat.</td>], [<td class=\"fooinfo\" rowspan=\"2\">28</td>, <td class=\"fooinfo\" rowspan=\"2\"><a href=\"/attackdex-sm/firefang.shtml\">Fire Fang</a></td>, <td class=\"cen\"><img alt=\"Fire Fang - Fire-type\" src=\"/pokedex-bw/type/fire.gif\"/></td>, <td class=\"cen\"><img alt=\"Fire Fang: Physical Move\" src=\"/pokedex-bw/type/physical.png\"/></td>, <td class=\"cen\">65</td>, <td class=\"cen\">95</td>, <td class=\"cen\">15</td>, <td class=\"cen\">20</td>, <td class=\"fooinfo\" colspan=\"8\">The user bites with flame-cloaked fangs. This may also make the target flinch or leave it with a burn.</td>], [<td class=\"fooinfo\" rowspan=\"2\">32</td>, <td class=\"fooinfo\" rowspan=\"2\"><a href=\"/attackdex-sm/flameburst.shtml\">Flame Burst</a></td>, <td class=\"cen\"><img alt=\"Flame Burst - Fire-type\" src=\"/pokedex-bw/type/fire.gif\"/></td>, <td class=\"cen\"><img alt=\"Flame Burst: Special Move\" src=\"/pokedex-bw/type/special.png\"/></td>, <td class=\"cen\">70</td>, <td class=\"cen\">100</td>, <td class=\"cen\">15</td>, <td class=\"cen\">--</td>, <td class=\"fooinfo\" colspan=\"8\">The user attacks the target with a bursting flame. The bursting flame damages Pokémon next to the target as well.</td>], [<td class=\"fooinfo\" rowspan=\"2\">41</td>, <td class=\"fooinfo\" rowspan=\"2\"><a href=\"/attackdex-sm/slash.shtml\">Slash</a></td>, <td class=\"cen\"><img alt=\"Slash - Normal-type\" src=\"/pokedex-bw/type/normal.gif\"/></td>, <td class=\"cen\"><img alt=\"Slash: Physical Move\" src=\"/pokedex-bw/type/physical.png\"/></td>, <td class=\"cen\">70</td>, <td class=\"cen\">100</td>, <td class=\"cen\">20</td>, <td class=\"cen\">--</td>, <td class=\"fooinfo\" colspan=\"8\">The target is attacked with a slash of claws or blades. Critical hits land more easily.</td>], [<td class=\"fooinfo\" rowspan=\"2\">47</td>, <td class=\"fooinfo\" rowspan=\"2\"><a href=\"/attackdex-sm/flamethrower.shtml\">Flamethrower</a></td>, <td class=\"cen\"><img alt=\"Flamethrower - Fire-type\" src=\"/pokedex-bw/type/fire.gif\"/></td>, <td class=\"cen\"><img alt=\"Flamethrower: Special Move\" src=\"/pokedex-bw/type/special.png\"/></td>, <td class=\"cen\">90</td>, <td class=\"cen\">100</td>, <td class=\"cen\">15</td>, <td class=\"cen\">10</td>, <td class=\"fooinfo\" colspan=\"8\">The target is scorched with an intense blast of fire. This may also leave the target with a burn.</td>], [<td class=\"fooinfo\" rowspan=\"2\">56</td>, <td class=\"fooinfo\" rowspan=\"2\"><a href=\"/attackdex-sm/firespin.shtml\">Fire Spin</a></td>, <td class=\"cen\"><img alt=\"Fire Spin - Fire-type\" src=\"/pokedex-bw/type/fire.gif\"/></td>, <td class=\"cen\"><img alt=\"Fire Spin: Special Move\" src=\"/pokedex-bw/type/special.png\"/></td>, <td class=\"cen\">35</td>, <td class=\"cen\">85</td>, <td class=\"cen\">15</td>, <td class=\"cen\">100</td>, <td class=\"fooinfo\" colspan=\"8\">The target becomes trapped within a fierce vortex of fire that rages for four to five turns.</td>], [<td class=\"fooinfo\" rowspan=\"2\">62</td>, <td class=\"fooinfo\" rowspan=\"2\"><a href=\"/attackdex-sm/inferno.shtml\">Inferno</a></td>, <td class=\"cen\"><img alt=\"Inferno - Fire-type\" src=\"/pokedex-bw/type/fire.gif\"/></td>, <td class=\"cen\"><img alt=\"Inferno: Special Move\" src=\"/pokedex-bw/type/special.png\"/></td>, <td class=\"cen\">100</td>, <td class=\"cen\">50</td>, <td class=\"cen\">5</td>, <td class=\"cen\">100</td>, <td class=\"fooinfo\" colspan=\"8\">The user attacks by engulfing the target in an intense fire. This leaves the target with a burn.</td>], [<td class=\"fooinfo\" rowspan=\"2\">71</td>, <td class=\"fooinfo\" rowspan=\"2\"><a href=\"/attackdex-sm/heatwave.shtml\">Heat Wave</a></td>, <td class=\"cen\"><img alt=\"Heat Wave - Fire-type\" src=\"/pokedex-bw/type/fire.gif\"/></td>, <td class=\"cen\"><img alt=\"Heat Wave: Special Move\" src=\"/pokedex-bw/type/special.png\"/></td>, <td class=\"cen\">95</td>, <td class=\"cen\">90</td>, <td class=\"cen\">10</td>, <td class=\"cen\">10</td>, <td class=\"fooinfo\" colspan=\"8\">The user attacks by exhaling hot breath on the opposing Pokémon. This may also leave those Pokémon with a burn.</td>], [<td class=\"fooinfo\" rowspan=\"2\">77</td>, <td class=\"fooinfo\" rowspan=\"2\"><a href=\"/attackdex-sm/flareblitz.shtml\">Flare Blitz</a></td>, <td class=\"cen\"><img alt=\"Flare Blitz - Fire-type\" src=\"/pokedex-bw/type/fire.gif\"/></td>, <td class=\"cen\"><img alt=\"Flare Blitz: Physical Move\" src=\"/pokedex-bw/type/physical.png\"/></td>, <td class=\"cen\">120</td>, <td class=\"cen\">100</td>, <td class=\"cen\">15</td>, <td class=\"cen\">10</td>, <td class=\"fooinfo\" colspan=\"8\">The user cloaks itself in fire and charges the target. This also damages the user quite a lot. This attack may leave the target with a burn.</td>]]\n"
     ]
    }
   ],
   "source": [
    "groups = 9\n",
    "cycle = list(chunked(list_elements[1:],groups))\n",
    "info_split = list(chunked(info[1:],groups))\n",
    "print(cycle)\n",
    "print(info_split)"
   ]
  },
  {
   "cell_type": "code",
   "execution_count": 96,
   "metadata": {},
   "outputs": [
    {
     "name": "stdout",
     "output_type": "stream",
     "text": [
      "[<td class=\"fooinfo\" rowspan=\"2\">Evolve</td>, <td class=\"fooinfo\" rowspan=\"2\"><a href=\"/attackdex-sm/wingattack.shtml\">Wing Attack</a></td>, <td class=\"cen\"><img alt=\"Wing Attack - Flying-type\" src=\"/pokedex-bw/type/flying.gif\"/></td>, <td class=\"cen\"><img alt=\"Wing Attack: Physical Move\" src=\"/pokedex-bw/type/physical.png\"/></td>, <td class=\"cen\">60</td>, <td class=\"cen\">100</td>, <td class=\"cen\">35</td>, <td class=\"cen\">--</td>, <td class=\"fooinfo\" colspan=\"8\">The target is struck with large, imposing wings spread wide to inflict damage.</td>, <td class=\"fooinfo\" rowspan=\"2\">—</td>, <td class=\"fooinfo\" rowspan=\"2\"><a href=\"/attackdex-sm/flareblitz.shtml\">Flare Blitz</a></td>, <td class=\"cen\"><img alt=\"Flare Blitz - Fire-type\" src=\"/pokedex-bw/type/fire.gif\"/></td>, <td class=\"cen\"><img alt=\"Flare Blitz: Physical Move\" src=\"/pokedex-bw/type/physical.png\"/></td>, <td class=\"cen\">120</td>, <td class=\"cen\">100</td>, <td class=\"cen\">15</td>, <td class=\"cen\">10</td>, <td class=\"fooinfo\" colspan=\"8\">The user cloaks itself in fire and charges the target. This also damages the user quite a lot. This attack may leave the target with a burn.</td>, <td class=\"fooinfo\" rowspan=\"2\">—</td>, <td class=\"fooinfo\" rowspan=\"2\"><a href=\"/attackdex-sm/heatwave.shtml\">Heat Wave</a></td>, <td class=\"cen\"><img alt=\"Heat Wave - Fire-type\" src=\"/pokedex-bw/type/fire.gif\"/></td>, <td class=\"cen\"><img alt=\"Heat Wave: Special Move\" src=\"/pokedex-bw/type/special.png\"/></td>, <td class=\"cen\">95</td>, <td class=\"cen\">90</td>, <td class=\"cen\">10</td>, <td class=\"cen\">10</td>, <td class=\"fooinfo\" colspan=\"8\">The user attacks by exhaling hot breath on the opposing Pokémon. This may also leave those Pokémon with a burn.</td>, <td class=\"fooinfo\" rowspan=\"2\">—</td>, <td class=\"fooinfo\" rowspan=\"2\"><a href=\"/attackdex-sm/dragonclaw.shtml\">Dragon Claw</a></td>, <td class=\"cen\"><img alt=\"Dragon Claw - Dragon-type\" src=\"/pokedex-bw/type/dragon.gif\"/></td>, <td class=\"cen\"><img alt=\"Dragon Claw: Physical Move\" src=\"/pokedex-bw/type/physical.png\"/></td>, <td class=\"cen\">80</td>, <td class=\"cen\">100</td>, <td class=\"cen\">15</td>, <td class=\"cen\">--</td>, <td class=\"fooinfo\" colspan=\"8\">The user slashes the target with huge sharp claws.</td>, <td class=\"fooinfo\" rowspan=\"2\">—</td>, <td class=\"fooinfo\" rowspan=\"2\"><a href=\"/attackdex-sm/shadowclaw.shtml\">Shadow Claw</a></td>, <td class=\"cen\"><img alt=\"Shadow Claw - Ghost-type\" src=\"/pokedex-bw/type/ghost.gif\"/></td>, <td class=\"cen\"><img alt=\"Shadow Claw: Physical Move\" src=\"/pokedex-bw/type/physical.png\"/></td>, <td class=\"cen\">70</td>, <td class=\"cen\">100</td>, <td class=\"cen\">15</td>, <td class=\"cen\">--</td>, <td class=\"fooinfo\" colspan=\"8\">The user slashes with a sharp claw made from shadows. Critical hits land more easily.</td>, <td class=\"fooinfo\" rowspan=\"2\">—</td>, <td class=\"fooinfo\" rowspan=\"2\"><a href=\"/attackdex-sm/airslash.shtml\">Air Slash</a></td>, <td class=\"cen\"><img alt=\"Air Slash - Flying-type\" src=\"/pokedex-bw/type/flying.gif\"/></td>, <td class=\"cen\"><img alt=\"Air Slash: Special Move\" src=\"/pokedex-bw/type/special.png\"/></td>, <td class=\"cen\">75</td>, <td class=\"cen\">95</td>, <td class=\"cen\">15</td>, <td class=\"cen\">30</td>, <td class=\"fooinfo\" colspan=\"8\">The user attacks with a blade of air that slices even the sky. This may also make the target flinch.</td>, <td class=\"fooinfo\" rowspan=\"2\">—</td>, <td class=\"fooinfo\" rowspan=\"2\"><a href=\"/attackdex-sm/scratch.shtml\">Scratch</a></td>, <td class=\"cen\"><img alt=\"Scratch - Normal-type\" src=\"/pokedex-bw/type/normal.gif\"/></td>, <td class=\"cen\"><img alt=\"Scratch: Physical Move\" src=\"/pokedex-bw/type/physical.png\"/></td>, <td class=\"cen\">40</td>, <td class=\"cen\">100</td>, <td class=\"cen\">35</td>, <td class=\"cen\">--</td>, <td class=\"fooinfo\" colspan=\"8\">Hard, pointed, sharp claws rake the target to inflict damage.</td>, <td class=\"fooinfo\" rowspan=\"2\">—</td>, <td class=\"fooinfo\" rowspan=\"2\"><a href=\"/attackdex-sm/growl.shtml\">Growl</a></td>, <td class=\"cen\"><img alt=\"Growl - Normal-type\" src=\"/pokedex-bw/type/normal.gif\"/></td>, <td class=\"cen\"><img alt=\"Growl: Other Move\" src=\"/pokedex-bw/type/other.png\"/></td>, <td class=\"cen\">--</td>, <td class=\"cen\">100</td>, <td class=\"cen\">40</td>, <td class=\"cen\">--</td>, <td class=\"fooinfo\" colspan=\"8\">The user growls in an endearing way, making opposing Pokémon less wary. This lowers their Attack stat.</td>, <td class=\"fooinfo\" rowspan=\"2\">—</td>, <td class=\"fooinfo\" rowspan=\"2\"><a href=\"/attackdex-sm/ember.shtml\">Ember</a></td>, <td class=\"cen\"><img alt=\"Ember - Fire-type\" src=\"/pokedex-bw/type/fire.gif\"/></td>, <td class=\"cen\"><img alt=\"Ember: Special Move\" src=\"/pokedex-bw/type/special.png\"/></td>, <td class=\"cen\">40</td>, <td class=\"cen\">100</td>, <td class=\"cen\">25</td>, <td class=\"cen\">10</td>, <td class=\"fooinfo\" colspan=\"8\">The target is attacked with small flames. This may also leave the target with a burn.</td>, <td class=\"fooinfo\" rowspan=\"2\">7</td>, <td class=\"fooinfo\" rowspan=\"2\"><a href=\"/attackdex-sm/ember.shtml\">Ember</a></td>, <td class=\"cen\"><img alt=\"Ember - Fire-type\" src=\"/pokedex-bw/type/fire.gif\"/></td>, <td class=\"cen\"><img alt=\"Ember: Special Move\" src=\"/pokedex-bw/type/special.png\"/></td>, <td class=\"cen\">40</td>, <td class=\"cen\">100</td>, <td class=\"cen\">25</td>, <td class=\"cen\">10</td>, <td class=\"fooinfo\" colspan=\"8\">The target is attacked with small flames. This may also leave the target with a burn.</td>, <td class=\"fooinfo\" rowspan=\"2\">10</td>, <td class=\"fooinfo\" rowspan=\"2\"><a href=\"/attackdex-sm/smokescreen.shtml\">Smokescreen</a></td>, <td class=\"cen\"><img alt=\"Smokescreen - Normal-type\" src=\"/pokedex-bw/type/normal.gif\"/></td>, <td class=\"cen\"><img alt=\"Smokescreen: Other Move\" src=\"/pokedex-bw/type/other.png\"/></td>, <td class=\"cen\">--</td>, <td class=\"cen\">100</td>, <td class=\"cen\">20</td>, <td class=\"cen\">--</td>, <td class=\"fooinfo\" colspan=\"8\">The user releases an obscuring cloud of smoke or ink. This lowers the target's accuracy.</td>, <td class=\"fooinfo\" rowspan=\"2\">17</td>, <td class=\"fooinfo\" rowspan=\"2\"><a href=\"/attackdex-sm/dragonrage.shtml\">Dragon Rage</a></td>, <td class=\"cen\"><img alt=\"Dragon Rage - Dragon-type\" src=\"/pokedex-bw/type/dragon.gif\"/></td>, <td class=\"cen\"><img alt=\"Dragon Rage: Special Move\" src=\"/pokedex-bw/type/special.png\"/></td>, <td class=\"cen\">??</td>, <td class=\"cen\">100</td>, <td class=\"cen\">10</td>, <td class=\"cen\">--</td>, <td class=\"fooinfo\" colspan=\"8\">This attack hits the target with a shock wave of pure rage. This attack always inflicts 40 HP damage.</td>, <td class=\"fooinfo\" rowspan=\"2\">21</td>, <td class=\"fooinfo\" rowspan=\"2\"><a href=\"/attackdex-sm/scaryface.shtml\">Scary Face</a></td>, <td class=\"cen\"><img alt=\"Scary Face - Normal-type\" src=\"/pokedex-bw/type/normal.gif\"/></td>, <td class=\"cen\"><img alt=\"Scary Face: Other Move\" src=\"/pokedex-bw/type/other.png\"/></td>, <td class=\"cen\">--</td>, <td class=\"cen\">100</td>, <td class=\"cen\">10</td>, <td class=\"cen\">--</td>, <td class=\"fooinfo\" colspan=\"8\">The user frightens the target with a scary face to harshly lower its Speed stat.</td>, <td class=\"fooinfo\" rowspan=\"2\">28</td>, <td class=\"fooinfo\" rowspan=\"2\"><a href=\"/attackdex-sm/firefang.shtml\">Fire Fang</a></td>, <td class=\"cen\"><img alt=\"Fire Fang - Fire-type\" src=\"/pokedex-bw/type/fire.gif\"/></td>, <td class=\"cen\"><img alt=\"Fire Fang: Physical Move\" src=\"/pokedex-bw/type/physical.png\"/></td>, <td class=\"cen\">65</td>, <td class=\"cen\">95</td>, <td class=\"cen\">15</td>, <td class=\"cen\">20</td>, <td class=\"fooinfo\" colspan=\"8\">The user bites with flame-cloaked fangs. This may also make the target flinch or leave it with a burn.</td>, <td class=\"fooinfo\" rowspan=\"2\">32</td>, <td class=\"fooinfo\" rowspan=\"2\"><a href=\"/attackdex-sm/flameburst.shtml\">Flame Burst</a></td>, <td class=\"cen\"><img alt=\"Flame Burst - Fire-type\" src=\"/pokedex-bw/type/fire.gif\"/></td>, <td class=\"cen\"><img alt=\"Flame Burst: Special Move\" src=\"/pokedex-bw/type/special.png\"/></td>, <td class=\"cen\">70</td>, <td class=\"cen\">100</td>, <td class=\"cen\">15</td>, <td class=\"cen\">--</td>, <td class=\"fooinfo\" colspan=\"8\">The user attacks the target with a bursting flame. The bursting flame damages Pokémon next to the target as well.</td>, <td class=\"fooinfo\" rowspan=\"2\">41</td>, <td class=\"fooinfo\" rowspan=\"2\"><a href=\"/attackdex-sm/slash.shtml\">Slash</a></td>, <td class=\"cen\"><img alt=\"Slash - Normal-type\" src=\"/pokedex-bw/type/normal.gif\"/></td>, <td class=\"cen\"><img alt=\"Slash: Physical Move\" src=\"/pokedex-bw/type/physical.png\"/></td>, <td class=\"cen\">70</td>, <td class=\"cen\">100</td>, <td class=\"cen\">20</td>, <td class=\"cen\">--</td>, <td class=\"fooinfo\" colspan=\"8\">The target is attacked with a slash of claws or blades. Critical hits land more easily.</td>, <td class=\"fooinfo\" rowspan=\"2\">47</td>, <td class=\"fooinfo\" rowspan=\"2\"><a href=\"/attackdex-sm/flamethrower.shtml\">Flamethrower</a></td>, <td class=\"cen\"><img alt=\"Flamethrower - Fire-type\" src=\"/pokedex-bw/type/fire.gif\"/></td>, <td class=\"cen\"><img alt=\"Flamethrower: Special Move\" src=\"/pokedex-bw/type/special.png\"/></td>, <td class=\"cen\">90</td>, <td class=\"cen\">100</td>, <td class=\"cen\">15</td>, <td class=\"cen\">10</td>, <td class=\"fooinfo\" colspan=\"8\">The target is scorched with an intense blast of fire. This may also leave the target with a burn.</td>, <td class=\"fooinfo\" rowspan=\"2\">56</td>, <td class=\"fooinfo\" rowspan=\"2\"><a href=\"/attackdex-sm/firespin.shtml\">Fire Spin</a></td>, <td class=\"cen\"><img alt=\"Fire Spin - Fire-type\" src=\"/pokedex-bw/type/fire.gif\"/></td>, <td class=\"cen\"><img alt=\"Fire Spin: Special Move\" src=\"/pokedex-bw/type/special.png\"/></td>, <td class=\"cen\">35</td>, <td class=\"cen\">85</td>, <td class=\"cen\">15</td>, <td class=\"cen\">100</td>, <td class=\"fooinfo\" colspan=\"8\">The target becomes trapped within a fierce vortex of fire that rages for four to five turns.</td>, <td class=\"fooinfo\" rowspan=\"2\">62</td>, <td class=\"fooinfo\" rowspan=\"2\"><a href=\"/attackdex-sm/inferno.shtml\">Inferno</a></td>, <td class=\"cen\"><img alt=\"Inferno - Fire-type\" src=\"/pokedex-bw/type/fire.gif\"/></td>, <td class=\"cen\"><img alt=\"Inferno: Special Move\" src=\"/pokedex-bw/type/special.png\"/></td>, <td class=\"cen\">100</td>, <td class=\"cen\">50</td>, <td class=\"cen\">5</td>, <td class=\"cen\">100</td>, <td class=\"fooinfo\" colspan=\"8\">The user attacks by engulfing the target in an intense fire. This leaves the target with a burn.</td>, <td class=\"fooinfo\" rowspan=\"2\">71</td>, <td class=\"fooinfo\" rowspan=\"2\"><a href=\"/attackdex-sm/heatwave.shtml\">Heat Wave</a></td>, <td class=\"cen\"><img alt=\"Heat Wave - Fire-type\" src=\"/pokedex-bw/type/fire.gif\"/></td>, <td class=\"cen\"><img alt=\"Heat Wave: Special Move\" src=\"/pokedex-bw/type/special.png\"/></td>, <td class=\"cen\">95</td>, <td class=\"cen\">90</td>, <td class=\"cen\">10</td>, <td class=\"cen\">10</td>, <td class=\"fooinfo\" colspan=\"8\">The user attacks by exhaling hot breath on the opposing Pokémon. This may also leave those Pokémon with a burn.</td>, <td class=\"fooinfo\" rowspan=\"2\">77</td>, <td class=\"fooinfo\" rowspan=\"2\"><a href=\"/attackdex-sm/flareblitz.shtml\">Flare Blitz</a></td>, <td class=\"cen\"><img alt=\"Flare Blitz - Fire-type\" src=\"/pokedex-bw/type/fire.gif\"/></td>, <td class=\"cen\"><img alt=\"Flare Blitz: Physical Move\" src=\"/pokedex-bw/type/physical.png\"/></td>, <td class=\"cen\">120</td>, <td class=\"cen\">100</td>, <td class=\"cen\">15</td>, <td class=\"cen\">10</td>, <td class=\"fooinfo\" colspan=\"8\">The user cloaks itself in fire and charges the target. This also damages the user quite a lot. This attack may leave the target with a burn.</td>]\n"
     ]
    }
   ],
   "source": [
    "info = info[1:]\n",
    "print(info)"
   ]
  },
  {
   "cell_type": "code",
   "execution_count": 97,
   "metadata": {},
   "outputs": [
    {
     "name": "stdout",
     "output_type": "stream",
     "text": [
      "[['Evolve', <a href=\"/attackdex-sm/wingattack.shtml\">Wing Attack</a>, <img alt=\"Wing Attack - Flying-type\" src=\"/pokedex-bw/type/flying.gif\"/>, <img alt=\"Wing Attack: Physical Move\" src=\"/pokedex-bw/type/physical.png\"/>, '60', '100', '35', '--', 'The target is struck with large, imposing wings spread wide to inflict damage.'], ['—', <a href=\"/attackdex-sm/flareblitz.shtml\">Flare Blitz</a>, <img alt=\"Flare Blitz - Fire-type\" src=\"/pokedex-bw/type/fire.gif\"/>, <img alt=\"Flare Blitz: Physical Move\" src=\"/pokedex-bw/type/physical.png\"/>, '120', '100', '15', '10', 'The user cloaks itself in fire and charges the target. This also damages the user quite a lot. This attack may leave the target with a burn.'], ['—', <a href=\"/attackdex-sm/heatwave.shtml\">Heat Wave</a>, <img alt=\"Heat Wave - Fire-type\" src=\"/pokedex-bw/type/fire.gif\"/>, <img alt=\"Heat Wave: Special Move\" src=\"/pokedex-bw/type/special.png\"/>, '95', '90', '10', '10', 'The user attacks by exhaling hot breath on the opposing Pokémon. This may also leave those Pokémon with a burn.'], ['—', <a href=\"/attackdex-sm/dragonclaw.shtml\">Dragon Claw</a>, <img alt=\"Dragon Claw - Dragon-type\" src=\"/pokedex-bw/type/dragon.gif\"/>, <img alt=\"Dragon Claw: Physical Move\" src=\"/pokedex-bw/type/physical.png\"/>, '80', '100', '15', '--', 'The user slashes the target with huge sharp claws.'], ['—', <a href=\"/attackdex-sm/shadowclaw.shtml\">Shadow Claw</a>, <img alt=\"Shadow Claw - Ghost-type\" src=\"/pokedex-bw/type/ghost.gif\"/>, <img alt=\"Shadow Claw: Physical Move\" src=\"/pokedex-bw/type/physical.png\"/>, '70', '100', '15', '--', 'The user slashes with a sharp claw made from shadows. Critical hits land more easily.'], ['—', <a href=\"/attackdex-sm/airslash.shtml\">Air Slash</a>, <img alt=\"Air Slash - Flying-type\" src=\"/pokedex-bw/type/flying.gif\"/>, <img alt=\"Air Slash: Special Move\" src=\"/pokedex-bw/type/special.png\"/>, '75', '95', '15', '30', 'The user attacks with a blade of air that slices even the sky. This may also make the target flinch.'], ['—', <a href=\"/attackdex-sm/scratch.shtml\">Scratch</a>, <img alt=\"Scratch - Normal-type\" src=\"/pokedex-bw/type/normal.gif\"/>, <img alt=\"Scratch: Physical Move\" src=\"/pokedex-bw/type/physical.png\"/>, '40', '100', '35', '--', 'Hard, pointed, sharp claws rake the target to inflict damage.'], ['—', <a href=\"/attackdex-sm/growl.shtml\">Growl</a>, <img alt=\"Growl - Normal-type\" src=\"/pokedex-bw/type/normal.gif\"/>, <img alt=\"Growl: Other Move\" src=\"/pokedex-bw/type/other.png\"/>, '--', '100', '40', '--', 'The user growls in an endearing way, making opposing Pokémon less wary. This lowers their Attack stat.'], ['—', <a href=\"/attackdex-sm/ember.shtml\">Ember</a>, <img alt=\"Ember - Fire-type\" src=\"/pokedex-bw/type/fire.gif\"/>, <img alt=\"Ember: Special Move\" src=\"/pokedex-bw/type/special.png\"/>, '40', '100', '25', '10', 'The target is attacked with small flames. This may also leave the target with a burn.'], ['7', <a href=\"/attackdex-sm/ember.shtml\">Ember</a>, <img alt=\"Ember - Fire-type\" src=\"/pokedex-bw/type/fire.gif\"/>, <img alt=\"Ember: Special Move\" src=\"/pokedex-bw/type/special.png\"/>, '40', '100', '25', '10', 'The target is attacked with small flames. This may also leave the target with a burn.'], ['10', <a href=\"/attackdex-sm/smokescreen.shtml\">Smokescreen</a>, <img alt=\"Smokescreen - Normal-type\" src=\"/pokedex-bw/type/normal.gif\"/>, <img alt=\"Smokescreen: Other Move\" src=\"/pokedex-bw/type/other.png\"/>, '--', '100', '20', '--', \"The user releases an obscuring cloud of smoke or ink. This lowers the target's accuracy.\"], ['17', <a href=\"/attackdex-sm/dragonrage.shtml\">Dragon Rage</a>, <img alt=\"Dragon Rage - Dragon-type\" src=\"/pokedex-bw/type/dragon.gif\"/>, <img alt=\"Dragon Rage: Special Move\" src=\"/pokedex-bw/type/special.png\"/>, '??', '100', '10', '--', 'This attack hits the target with a shock wave of pure rage. This attack always inflicts 40 HP damage.'], ['21', <a href=\"/attackdex-sm/scaryface.shtml\">Scary Face</a>, <img alt=\"Scary Face - Normal-type\" src=\"/pokedex-bw/type/normal.gif\"/>, <img alt=\"Scary Face: Other Move\" src=\"/pokedex-bw/type/other.png\"/>, '--', '100', '10', '--', 'The user frightens the target with a scary face to harshly lower its Speed stat.'], ['28', <a href=\"/attackdex-sm/firefang.shtml\">Fire Fang</a>, <img alt=\"Fire Fang - Fire-type\" src=\"/pokedex-bw/type/fire.gif\"/>, <img alt=\"Fire Fang: Physical Move\" src=\"/pokedex-bw/type/physical.png\"/>, '65', '95', '15', '20', 'The user bites with flame-cloaked fangs. This may also make the target flinch or leave it with a burn.'], ['32', <a href=\"/attackdex-sm/flameburst.shtml\">Flame Burst</a>, <img alt=\"Flame Burst - Fire-type\" src=\"/pokedex-bw/type/fire.gif\"/>, <img alt=\"Flame Burst: Special Move\" src=\"/pokedex-bw/type/special.png\"/>, '70', '100', '15', '--', 'The user attacks the target with a bursting flame. The bursting flame damages Pokémon next to the target as well.'], ['41', <a href=\"/attackdex-sm/slash.shtml\">Slash</a>, <img alt=\"Slash - Normal-type\" src=\"/pokedex-bw/type/normal.gif\"/>, <img alt=\"Slash: Physical Move\" src=\"/pokedex-bw/type/physical.png\"/>, '70', '100', '20', '--', 'The target is attacked with a slash of claws or blades. Critical hits land more easily.'], ['47', <a href=\"/attackdex-sm/flamethrower.shtml\">Flamethrower</a>, <img alt=\"Flamethrower - Fire-type\" src=\"/pokedex-bw/type/fire.gif\"/>, <img alt=\"Flamethrower: Special Move\" src=\"/pokedex-bw/type/special.png\"/>, '90', '100', '15', '10', 'The target is scorched with an intense blast of fire. This may also leave the target with a burn.'], ['56', <a href=\"/attackdex-sm/firespin.shtml\">Fire Spin</a>, <img alt=\"Fire Spin - Fire-type\" src=\"/pokedex-bw/type/fire.gif\"/>, <img alt=\"Fire Spin: Special Move\" src=\"/pokedex-bw/type/special.png\"/>, '35', '85', '15', '100', 'The target becomes trapped within a fierce vortex of fire that rages for four to five turns.'], ['62', <a href=\"/attackdex-sm/inferno.shtml\">Inferno</a>, <img alt=\"Inferno - Fire-type\" src=\"/pokedex-bw/type/fire.gif\"/>, <img alt=\"Inferno: Special Move\" src=\"/pokedex-bw/type/special.png\"/>, '100', '50', '5', '100', 'The user attacks by engulfing the target in an intense fire. This leaves the target with a burn.'], ['71', <a href=\"/attackdex-sm/heatwave.shtml\">Heat Wave</a>, <img alt=\"Heat Wave - Fire-type\" src=\"/pokedex-bw/type/fire.gif\"/>, <img alt=\"Heat Wave: Special Move\" src=\"/pokedex-bw/type/special.png\"/>, '95', '90', '10', '10', 'The user attacks by exhaling hot breath on the opposing Pokémon. This may also leave those Pokémon with a burn.'], ['77', <a href=\"/attackdex-sm/flareblitz.shtml\">Flare Blitz</a>, <img alt=\"Flare Blitz - Fire-type\" src=\"/pokedex-bw/type/fire.gif\"/>, <img alt=\"Flare Blitz: Physical Move\" src=\"/pokedex-bw/type/physical.png\"/>, '120', '100', '15', '10', 'The user cloaks itself in fire and charges the target. This also damages the user quite a lot. This attack may leave the target with a burn.']]\n"
     ]
    }
   ],
   "source": [
    "ala = [item for sublist in info for item in sublist]\n",
    "reshape = [ala[i:i+9] for i in range(0, len(ala), 9)]\n",
    "print(reshape)"
   ]
  },
  {
   "cell_type": "code",
   "execution_count": 101,
   "metadata": {},
   "outputs": [
    {
     "name": "stdout",
     "output_type": "stream",
     "text": [
      "[['Evolve', 'Wing Attack', 'Flying', 'Physical', '60', '100', '35', '--', 'The target is struck with large, imposing wings spread wide to inflict damage.'], ['—', 'Flare Blitz', 'Fire', 'Physical', '120', '100', '15', '10', 'The user cloaks itself in fire and charges the target. This also damages the user quite a lot. This attack may leave the target with a burn.'], ['—', 'Heat Wave', 'Fire', 'Special', '95', '90', '10', '10', 'The user attacks by exhaling hot breath on the opposing Pokémon. This may also leave those Pokémon with a burn.'], ['—', 'Dragon Claw', 'Dragon', 'Physical', '80', '100', '15', '--', 'The user slashes the target with huge sharp claws.'], ['—', 'Shadow Claw', 'Ghost', 'Physical', '70', '100', '15', '--', 'The user slashes with a sharp claw made from shadows. Critical hits land more easily.'], ['—', 'Air Slash', 'Flying', 'Special', '75', '95', '15', '30', 'The user attacks with a blade of air that slices even the sky. This may also make the target flinch.'], ['—', 'Scratch', 'Normal', 'Physical', '40', '100', '35', '--', 'Hard, pointed, sharp claws rake the target to inflict damage.'], ['—', 'Growl', 'Normal', 'Other', '--', '100', '40', '--', 'The user growls in an endearing way, making opposing Pokémon less wary. This lowers their Attack stat.'], ['—', 'Ember', 'Fire', 'Special', '40', '100', '25', '10', 'The target is attacked with small flames. This may also leave the target with a burn.'], ['7', 'Ember', 'Fire', 'Special', '40', '100', '25', '10', 'The target is attacked with small flames. This may also leave the target with a burn.'], ['10', 'Smokescreen', 'Normal', 'Other', '--', '100', '20', '--', \"The user releases an obscuring cloud of smoke or ink. This lowers the target's accuracy.\"], ['17', 'Dragon Rage', 'Dragon', 'Special', '??', '100', '10', '--', 'This attack hits the target with a shock wave of pure rage. This attack always inflicts 40 HP damage.'], ['21', 'Scary Face', 'Normal', 'Other', '--', '100', '10', '--', 'The user frightens the target with a scary face to harshly lower its Speed stat.'], ['28', 'Fire Fang', 'Fire', 'Physical', '65', '95', '15', '20', 'The user bites with flame-cloaked fangs. This may also make the target flinch or leave it with a burn.'], ['32', 'Flame Burst', 'Fire', 'Special', '70', '100', '15', '--', 'The user attacks the target with a bursting flame. The bursting flame damages Pokémon next to the target as well.'], ['41', 'Slash', 'Normal', 'Physical', '70', '100', '20', '--', 'The target is attacked with a slash of claws or blades. Critical hits land more easily.'], ['47', 'Flamethrower', 'Fire', 'Special', '90', '100', '15', '10', 'The target is scorched with an intense blast of fire. This may also leave the target with a burn.'], ['56', 'Fire Spin', 'Fire', 'Special', '35', '85', '15', '100', 'The target becomes trapped within a fierce vortex of fire that rages for four to five turns.'], ['62', 'Inferno', 'Fire', 'Special', '100', '50', '5', '100', 'The user attacks by engulfing the target in an intense fire. This leaves the target with a burn.'], ['71', 'Heat Wave', 'Fire', 'Special', '95', '90', '10', '10', 'The user attacks by exhaling hot breath on the opposing Pokémon. This may also leave those Pokémon with a burn.'], ['77', 'Flare Blitz', 'Fire', 'Physical', '120', '100', '15', '10', 'The user cloaks itself in fire and charges the target. This also damages the user quite a lot. This attack may leave the target with a burn.']]\n"
     ]
    }
   ],
   "source": [
    "for i in reshape:\n",
    "    i[0] = i[0].text\n",
    "    i[1] = i[1].text\n",
    "    i[2] = elements_atk(i[2])\n",
    "    i[3] = elements_atk(i[3],1)\n",
    "    i[4] = i[4].text\n",
    "    i[5] = i[5].text\n",
    "    i[6] = i[6].text\n",
    "    i[7] = i[7].text\n",
    "    i[8] = i[8].text\n",
    "print(reshape)"
   ]
  },
  {
   "cell_type": "code",
   "execution_count": 98,
   "metadata": {},
   "outputs": [
    {
     "data": {
      "text/plain": [
       "bs4.element.Tag"
      ]
     },
     "execution_count": 98,
     "metadata": {},
     "output_type": "execute_result"
    }
   ],
   "source": [
    "type(reshape[0][1])"
   ]
  },
  {
   "cell_type": "code",
   "execution_count": null,
   "metadata": {},
   "outputs": [],
   "source": [
    "for i in reshape:\n",
    "    print(i[3])"
   ]
  },
  {
   "cell_type": "code",
   "execution_count": 103,
   "metadata": {},
   "outputs": [],
   "source": [
    "df = pd.DataFrame(reshape)"
   ]
  },
  {
   "cell_type": "code",
   "execution_count": 126,
   "metadata": {},
   "outputs": [
    {
     "data": {
      "text/html": [
       "<div>\n",
       "<style scoped>\n",
       "    .dataframe tbody tr th:only-of-type {\n",
       "        vertical-align: middle;\n",
       "    }\n",
       "\n",
       "    .dataframe tbody tr th {\n",
       "        vertical-align: top;\n",
       "    }\n",
       "\n",
       "    .dataframe thead th {\n",
       "        text-align: right;\n",
       "    }\n",
       "</style>\n",
       "<table border=\"1\" class=\"dataframe\">\n",
       "  <thead>\n",
       "    <tr style=\"text-align: right;\">\n",
       "      <th></th>\n",
       "      <th>0</th>\n",
       "      <th>1</th>\n",
       "      <th>2</th>\n",
       "      <th>3</th>\n",
       "      <th>4</th>\n",
       "      <th>5</th>\n",
       "      <th>6</th>\n",
       "      <th>7</th>\n",
       "      <th>8</th>\n",
       "    </tr>\n",
       "  </thead>\n",
       "  <tbody>\n",
       "    <tr>\n",
       "      <th>0</th>\n",
       "      <td>Evolve</td>\n",
       "      <td>Wing Attack</td>\n",
       "      <td>Flying</td>\n",
       "      <td>Physical</td>\n",
       "      <td>60</td>\n",
       "      <td>100</td>\n",
       "      <td>35</td>\n",
       "      <td>--</td>\n",
       "      <td>The target is struck with large, imposing wing...</td>\n",
       "    </tr>\n",
       "    <tr>\n",
       "      <th>1</th>\n",
       "      <td>—</td>\n",
       "      <td>Flare Blitz</td>\n",
       "      <td>Fire</td>\n",
       "      <td>Physical</td>\n",
       "      <td>120</td>\n",
       "      <td>100</td>\n",
       "      <td>15</td>\n",
       "      <td>10</td>\n",
       "      <td>The user cloaks itself in fire and charges the...</td>\n",
       "    </tr>\n",
       "    <tr>\n",
       "      <th>2</th>\n",
       "      <td>—</td>\n",
       "      <td>Heat Wave</td>\n",
       "      <td>Fire</td>\n",
       "      <td>Special</td>\n",
       "      <td>95</td>\n",
       "      <td>90</td>\n",
       "      <td>10</td>\n",
       "      <td>10</td>\n",
       "      <td>The user attacks by exhaling hot breath on the...</td>\n",
       "    </tr>\n",
       "    <tr>\n",
       "      <th>3</th>\n",
       "      <td>—</td>\n",
       "      <td>Dragon Claw</td>\n",
       "      <td>Dragon</td>\n",
       "      <td>Physical</td>\n",
       "      <td>80</td>\n",
       "      <td>100</td>\n",
       "      <td>15</td>\n",
       "      <td>--</td>\n",
       "      <td>The user slashes the target with huge sharp cl...</td>\n",
       "    </tr>\n",
       "    <tr>\n",
       "      <th>4</th>\n",
       "      <td>—</td>\n",
       "      <td>Shadow Claw</td>\n",
       "      <td>Ghost</td>\n",
       "      <td>Physical</td>\n",
       "      <td>70</td>\n",
       "      <td>100</td>\n",
       "      <td>15</td>\n",
       "      <td>--</td>\n",
       "      <td>The user slashes with a sharp claw made from s...</td>\n",
       "    </tr>\n",
       "    <tr>\n",
       "      <th>5</th>\n",
       "      <td>—</td>\n",
       "      <td>Air Slash</td>\n",
       "      <td>Flying</td>\n",
       "      <td>Special</td>\n",
       "      <td>75</td>\n",
       "      <td>95</td>\n",
       "      <td>15</td>\n",
       "      <td>30</td>\n",
       "      <td>The user attacks with a blade of air that slic...</td>\n",
       "    </tr>\n",
       "    <tr>\n",
       "      <th>6</th>\n",
       "      <td>—</td>\n",
       "      <td>Scratch</td>\n",
       "      <td>Normal</td>\n",
       "      <td>Physical</td>\n",
       "      <td>40</td>\n",
       "      <td>100</td>\n",
       "      <td>35</td>\n",
       "      <td>--</td>\n",
       "      <td>Hard, pointed, sharp claws rake the target to ...</td>\n",
       "    </tr>\n",
       "    <tr>\n",
       "      <th>7</th>\n",
       "      <td>—</td>\n",
       "      <td>Growl</td>\n",
       "      <td>Normal</td>\n",
       "      <td>Other</td>\n",
       "      <td>--</td>\n",
       "      <td>100</td>\n",
       "      <td>40</td>\n",
       "      <td>--</td>\n",
       "      <td>The user growls in an endearing way, making op...</td>\n",
       "    </tr>\n",
       "    <tr>\n",
       "      <th>8</th>\n",
       "      <td>—</td>\n",
       "      <td>Ember</td>\n",
       "      <td>Fire</td>\n",
       "      <td>Special</td>\n",
       "      <td>40</td>\n",
       "      <td>100</td>\n",
       "      <td>25</td>\n",
       "      <td>10</td>\n",
       "      <td>The target is attacked with small flames. This...</td>\n",
       "    </tr>\n",
       "    <tr>\n",
       "      <th>9</th>\n",
       "      <td>7</td>\n",
       "      <td>Ember</td>\n",
       "      <td>Fire</td>\n",
       "      <td>Special</td>\n",
       "      <td>40</td>\n",
       "      <td>100</td>\n",
       "      <td>25</td>\n",
       "      <td>10</td>\n",
       "      <td>The target is attacked with small flames. This...</td>\n",
       "    </tr>\n",
       "    <tr>\n",
       "      <th>10</th>\n",
       "      <td>10</td>\n",
       "      <td>Smokescreen</td>\n",
       "      <td>Normal</td>\n",
       "      <td>Other</td>\n",
       "      <td>--</td>\n",
       "      <td>100</td>\n",
       "      <td>20</td>\n",
       "      <td>--</td>\n",
       "      <td>The user releases an obscuring cloud of smoke ...</td>\n",
       "    </tr>\n",
       "    <tr>\n",
       "      <th>11</th>\n",
       "      <td>17</td>\n",
       "      <td>Dragon Rage</td>\n",
       "      <td>Dragon</td>\n",
       "      <td>Special</td>\n",
       "      <td>??</td>\n",
       "      <td>100</td>\n",
       "      <td>10</td>\n",
       "      <td>--</td>\n",
       "      <td>This attack hits the target with a shock wave ...</td>\n",
       "    </tr>\n",
       "    <tr>\n",
       "      <th>12</th>\n",
       "      <td>21</td>\n",
       "      <td>Scary Face</td>\n",
       "      <td>Normal</td>\n",
       "      <td>Other</td>\n",
       "      <td>--</td>\n",
       "      <td>100</td>\n",
       "      <td>10</td>\n",
       "      <td>--</td>\n",
       "      <td>The user frightens the target with a scary fac...</td>\n",
       "    </tr>\n",
       "    <tr>\n",
       "      <th>13</th>\n",
       "      <td>28</td>\n",
       "      <td>Fire Fang</td>\n",
       "      <td>Fire</td>\n",
       "      <td>Physical</td>\n",
       "      <td>65</td>\n",
       "      <td>95</td>\n",
       "      <td>15</td>\n",
       "      <td>20</td>\n",
       "      <td>The user bites with flame-cloaked fangs. This ...</td>\n",
       "    </tr>\n",
       "    <tr>\n",
       "      <th>14</th>\n",
       "      <td>32</td>\n",
       "      <td>Flame Burst</td>\n",
       "      <td>Fire</td>\n",
       "      <td>Special</td>\n",
       "      <td>70</td>\n",
       "      <td>100</td>\n",
       "      <td>15</td>\n",
       "      <td>--</td>\n",
       "      <td>The user attacks the target with a bursting fl...</td>\n",
       "    </tr>\n",
       "    <tr>\n",
       "      <th>15</th>\n",
       "      <td>41</td>\n",
       "      <td>Slash</td>\n",
       "      <td>Normal</td>\n",
       "      <td>Physical</td>\n",
       "      <td>70</td>\n",
       "      <td>100</td>\n",
       "      <td>20</td>\n",
       "      <td>--</td>\n",
       "      <td>The target is attacked with a slash of claws o...</td>\n",
       "    </tr>\n",
       "    <tr>\n",
       "      <th>16</th>\n",
       "      <td>47</td>\n",
       "      <td>Flamethrower</td>\n",
       "      <td>Fire</td>\n",
       "      <td>Special</td>\n",
       "      <td>90</td>\n",
       "      <td>100</td>\n",
       "      <td>15</td>\n",
       "      <td>10</td>\n",
       "      <td>The target is scorched with an intense blast o...</td>\n",
       "    </tr>\n",
       "    <tr>\n",
       "      <th>17</th>\n",
       "      <td>56</td>\n",
       "      <td>Fire Spin</td>\n",
       "      <td>Fire</td>\n",
       "      <td>Special</td>\n",
       "      <td>35</td>\n",
       "      <td>85</td>\n",
       "      <td>15</td>\n",
       "      <td>100</td>\n",
       "      <td>The target becomes trapped within a fierce vor...</td>\n",
       "    </tr>\n",
       "    <tr>\n",
       "      <th>18</th>\n",
       "      <td>62</td>\n",
       "      <td>Inferno</td>\n",
       "      <td>Fire</td>\n",
       "      <td>Special</td>\n",
       "      <td>100</td>\n",
       "      <td>50</td>\n",
       "      <td>5</td>\n",
       "      <td>100</td>\n",
       "      <td>The user attacks by engulfing the target in an...</td>\n",
       "    </tr>\n",
       "    <tr>\n",
       "      <th>19</th>\n",
       "      <td>71</td>\n",
       "      <td>Heat Wave</td>\n",
       "      <td>Fire</td>\n",
       "      <td>Special</td>\n",
       "      <td>95</td>\n",
       "      <td>90</td>\n",
       "      <td>10</td>\n",
       "      <td>10</td>\n",
       "      <td>The user attacks by exhaling hot breath on the...</td>\n",
       "    </tr>\n",
       "    <tr>\n",
       "      <th>20</th>\n",
       "      <td>77</td>\n",
       "      <td>Flare Blitz</td>\n",
       "      <td>Fire</td>\n",
       "      <td>Physical</td>\n",
       "      <td>120</td>\n",
       "      <td>100</td>\n",
       "      <td>15</td>\n",
       "      <td>10</td>\n",
       "      <td>The user cloaks itself in fire and charges the...</td>\n",
       "    </tr>\n",
       "  </tbody>\n",
       "</table>\n",
       "</div>"
      ],
      "text/plain": [
       "         0             1       2         3    4    5   6    7  \\\n",
       "0   Evolve   Wing Attack  Flying  Physical   60  100  35   --   \n",
       "1        —   Flare Blitz    Fire  Physical  120  100  15   10   \n",
       "2        —     Heat Wave    Fire   Special   95   90  10   10   \n",
       "3        —   Dragon Claw  Dragon  Physical   80  100  15   --   \n",
       "4        —   Shadow Claw   Ghost  Physical   70  100  15   --   \n",
       "5        —     Air Slash  Flying   Special   75   95  15   30   \n",
       "6        —       Scratch  Normal  Physical   40  100  35   --   \n",
       "7        —         Growl  Normal     Other   --  100  40   --   \n",
       "8        —         Ember    Fire   Special   40  100  25   10   \n",
       "9        7         Ember    Fire   Special   40  100  25   10   \n",
       "10      10   Smokescreen  Normal     Other   --  100  20   --   \n",
       "11      17   Dragon Rage  Dragon   Special   ??  100  10   --   \n",
       "12      21    Scary Face  Normal     Other   --  100  10   --   \n",
       "13      28     Fire Fang    Fire  Physical   65   95  15   20   \n",
       "14      32   Flame Burst    Fire   Special   70  100  15   --   \n",
       "15      41         Slash  Normal  Physical   70  100  20   --   \n",
       "16      47  Flamethrower    Fire   Special   90  100  15   10   \n",
       "17      56     Fire Spin    Fire   Special   35   85  15  100   \n",
       "18      62       Inferno    Fire   Special  100   50   5  100   \n",
       "19      71     Heat Wave    Fire   Special   95   90  10   10   \n",
       "20      77   Flare Blitz    Fire  Physical  120  100  15   10   \n",
       "\n",
       "                                                    8  \n",
       "0   The target is struck with large, imposing wing...  \n",
       "1   The user cloaks itself in fire and charges the...  \n",
       "2   The user attacks by exhaling hot breath on the...  \n",
       "3   The user slashes the target with huge sharp cl...  \n",
       "4   The user slashes with a sharp claw made from s...  \n",
       "5   The user attacks with a blade of air that slic...  \n",
       "6   Hard, pointed, sharp claws rake the target to ...  \n",
       "7   The user growls in an endearing way, making op...  \n",
       "8   The target is attacked with small flames. This...  \n",
       "9   The target is attacked with small flames. This...  \n",
       "10  The user releases an obscuring cloud of smoke ...  \n",
       "11  This attack hits the target with a shock wave ...  \n",
       "12  The user frightens the target with a scary fac...  \n",
       "13  The user bites with flame-cloaked fangs. This ...  \n",
       "14  The user attacks the target with a bursting fl...  \n",
       "15  The target is attacked with a slash of claws o...  \n",
       "16  The target is scorched with an intense blast o...  \n",
       "17  The target becomes trapped within a fierce vor...  \n",
       "18  The user attacks by engulfing the target in an...  \n",
       "19  The user attacks by exhaling hot breath on the...  \n",
       "20  The user cloaks itself in fire and charges the...  "
      ]
     },
     "execution_count": 126,
     "metadata": {},
     "output_type": "execute_result"
    }
   ],
   "source": [
    "df"
   ]
  },
  {
   "cell_type": "code",
   "execution_count": 122,
   "metadata": {},
   "outputs": [
    {
     "ename": "AttributeError",
     "evalue": "'int' object has no attribute 'isdigit'",
     "output_type": "error",
     "traceback": [
      "\u001b[1;31m---------------------------------------------------------------------------\u001b[0m",
      "\u001b[1;31mAttributeError\u001b[0m                            Traceback (most recent call last)",
      "Cell \u001b[1;32mIn[122], line 1\u001b[0m\n\u001b[1;32m----> 1\u001b[0m df[\u001b[38;5;241m4\u001b[39m] \u001b[38;5;241m=\u001b[39m \u001b[43mdf\u001b[49m\u001b[43m[\u001b[49m\u001b[38;5;241;43m4\u001b[39;49m\u001b[43m]\u001b[49m\u001b[38;5;241;43m.\u001b[39;49m\u001b[43mapply\u001b[49m\u001b[43m(\u001b[49m\u001b[38;5;28;43;01mlambda\u001b[39;49;00m\u001b[43m \u001b[49m\u001b[43mx\u001b[49m\u001b[43m:\u001b[49m\u001b[43m \u001b[49m\u001b[38;5;28;43mint\u001b[39;49m\u001b[43m(\u001b[49m\u001b[43mx\u001b[49m\u001b[43m)\u001b[49m\u001b[43m \u001b[49m\u001b[38;5;28;43;01mif\u001b[39;49;00m\u001b[43m \u001b[49m\u001b[43mx\u001b[49m\u001b[38;5;241;43m.\u001b[39;49m\u001b[43misdigit\u001b[49m\u001b[43m(\u001b[49m\u001b[43m)\u001b[49m\u001b[43m \u001b[49m\u001b[38;5;28;43;01melse\u001b[39;49;00m\u001b[43m \u001b[49m\u001b[43mx\u001b[49m\u001b[43m)\u001b[49m\n",
      "File \u001b[1;32mc:\\Users\\Portatil\\miniconda3\\envs\\core_3_11\\Lib\\site-packages\\pandas\\core\\series.py:4630\u001b[0m, in \u001b[0;36mSeries.apply\u001b[1;34m(self, func, convert_dtype, args, **kwargs)\u001b[0m\n\u001b[0;32m   4520\u001b[0m \u001b[38;5;28;01mdef\u001b[39;00m \u001b[38;5;21mapply\u001b[39m(\n\u001b[0;32m   4521\u001b[0m     \u001b[38;5;28mself\u001b[39m,\n\u001b[0;32m   4522\u001b[0m     func: AggFuncType,\n\u001b[1;32m   (...)\u001b[0m\n\u001b[0;32m   4525\u001b[0m     \u001b[38;5;241m*\u001b[39m\u001b[38;5;241m*\u001b[39mkwargs,\n\u001b[0;32m   4526\u001b[0m ) \u001b[38;5;241m-\u001b[39m\u001b[38;5;241m>\u001b[39m DataFrame \u001b[38;5;241m|\u001b[39m Series:\n\u001b[0;32m   4527\u001b[0m \u001b[38;5;250m    \u001b[39m\u001b[38;5;124;03m\"\"\"\u001b[39;00m\n\u001b[0;32m   4528\u001b[0m \u001b[38;5;124;03m    Invoke function on values of Series.\u001b[39;00m\n\u001b[0;32m   4529\u001b[0m \n\u001b[1;32m   (...)\u001b[0m\n\u001b[0;32m   4628\u001b[0m \u001b[38;5;124;03m    dtype: float64\u001b[39;00m\n\u001b[0;32m   4629\u001b[0m \u001b[38;5;124;03m    \"\"\"\u001b[39;00m\n\u001b[1;32m-> 4630\u001b[0m     \u001b[38;5;28;01mreturn\u001b[39;00m \u001b[43mSeriesApply\u001b[49m\u001b[43m(\u001b[49m\u001b[38;5;28;43mself\u001b[39;49m\u001b[43m,\u001b[49m\u001b[43m \u001b[49m\u001b[43mfunc\u001b[49m\u001b[43m,\u001b[49m\u001b[43m \u001b[49m\u001b[43mconvert_dtype\u001b[49m\u001b[43m,\u001b[49m\u001b[43m \u001b[49m\u001b[43margs\u001b[49m\u001b[43m,\u001b[49m\u001b[43m \u001b[49m\u001b[43mkwargs\u001b[49m\u001b[43m)\u001b[49m\u001b[38;5;241;43m.\u001b[39;49m\u001b[43mapply\u001b[49m\u001b[43m(\u001b[49m\u001b[43m)\u001b[49m\n",
      "File \u001b[1;32mc:\\Users\\Portatil\\miniconda3\\envs\\core_3_11\\Lib\\site-packages\\pandas\\core\\apply.py:1025\u001b[0m, in \u001b[0;36mSeriesApply.apply\u001b[1;34m(self)\u001b[0m\n\u001b[0;32m   1022\u001b[0m     \u001b[38;5;28;01mreturn\u001b[39;00m \u001b[38;5;28mself\u001b[39m\u001b[38;5;241m.\u001b[39mapply_str()\n\u001b[0;32m   1024\u001b[0m \u001b[38;5;66;03m# self.f is Callable\u001b[39;00m\n\u001b[1;32m-> 1025\u001b[0m \u001b[38;5;28;01mreturn\u001b[39;00m \u001b[38;5;28;43mself\u001b[39;49m\u001b[38;5;241;43m.\u001b[39;49m\u001b[43mapply_standard\u001b[49m\u001b[43m(\u001b[49m\u001b[43m)\u001b[49m\n",
      "File \u001b[1;32mc:\\Users\\Portatil\\miniconda3\\envs\\core_3_11\\Lib\\site-packages\\pandas\\core\\apply.py:1076\u001b[0m, in \u001b[0;36mSeriesApply.apply_standard\u001b[1;34m(self)\u001b[0m\n\u001b[0;32m   1074\u001b[0m     \u001b[38;5;28;01melse\u001b[39;00m:\n\u001b[0;32m   1075\u001b[0m         values \u001b[38;5;241m=\u001b[39m obj\u001b[38;5;241m.\u001b[39mastype(\u001b[38;5;28mobject\u001b[39m)\u001b[38;5;241m.\u001b[39m_values\n\u001b[1;32m-> 1076\u001b[0m         mapped \u001b[38;5;241m=\u001b[39m \u001b[43mlib\u001b[49m\u001b[38;5;241;43m.\u001b[39;49m\u001b[43mmap_infer\u001b[49m\u001b[43m(\u001b[49m\n\u001b[0;32m   1077\u001b[0m \u001b[43m            \u001b[49m\u001b[43mvalues\u001b[49m\u001b[43m,\u001b[49m\n\u001b[0;32m   1078\u001b[0m \u001b[43m            \u001b[49m\u001b[43mf\u001b[49m\u001b[43m,\u001b[49m\n\u001b[0;32m   1079\u001b[0m \u001b[43m            \u001b[49m\u001b[43mconvert\u001b[49m\u001b[38;5;241;43m=\u001b[39;49m\u001b[38;5;28;43mself\u001b[39;49m\u001b[38;5;241;43m.\u001b[39;49m\u001b[43mconvert_dtype\u001b[49m\u001b[43m,\u001b[49m\n\u001b[0;32m   1080\u001b[0m \u001b[43m        \u001b[49m\u001b[43m)\u001b[49m\n\u001b[0;32m   1082\u001b[0m \u001b[38;5;28;01mif\u001b[39;00m \u001b[38;5;28mlen\u001b[39m(mapped) \u001b[38;5;129;01mand\u001b[39;00m \u001b[38;5;28misinstance\u001b[39m(mapped[\u001b[38;5;241m0\u001b[39m], ABCSeries):\n\u001b[0;32m   1083\u001b[0m     \u001b[38;5;66;03m# GH#43986 Need to do list(mapped) in order to get treated as nested\u001b[39;00m\n\u001b[0;32m   1084\u001b[0m     \u001b[38;5;66;03m#  See also GH#25959 regarding EA support\u001b[39;00m\n\u001b[0;32m   1085\u001b[0m     \u001b[38;5;28;01mreturn\u001b[39;00m obj\u001b[38;5;241m.\u001b[39m_constructor_expanddim(\u001b[38;5;28mlist\u001b[39m(mapped), index\u001b[38;5;241m=\u001b[39mobj\u001b[38;5;241m.\u001b[39mindex)\n",
      "File \u001b[1;32mc:\\Users\\Portatil\\miniconda3\\envs\\core_3_11\\Lib\\site-packages\\pandas\\_libs\\lib.pyx:2834\u001b[0m, in \u001b[0;36mpandas._libs.lib.map_infer\u001b[1;34m()\u001b[0m\n",
      "Cell \u001b[1;32mIn[122], line 1\u001b[0m, in \u001b[0;36m<lambda>\u001b[1;34m(x)\u001b[0m\n\u001b[1;32m----> 1\u001b[0m df[\u001b[38;5;241m4\u001b[39m] \u001b[38;5;241m=\u001b[39m df[\u001b[38;5;241m4\u001b[39m]\u001b[38;5;241m.\u001b[39mapply(\u001b[38;5;28;01mlambda\u001b[39;00m x: \u001b[38;5;28mint\u001b[39m(x) \u001b[38;5;28;01mif\u001b[39;00m \u001b[43mx\u001b[49m\u001b[38;5;241;43m.\u001b[39;49m\u001b[43misdigit\u001b[49m() \u001b[38;5;28;01melse\u001b[39;00m x)\n",
      "\u001b[1;31mAttributeError\u001b[0m: 'int' object has no attribute 'isdigit'"
     ]
    }
   ],
   "source": [
    "df[4] = df[4].apply(lambda x: int(x) if x.isdigit() else x)"
   ]
  },
  {
   "cell_type": "code",
   "execution_count": 123,
   "metadata": {},
   "outputs": [
    {
     "name": "stdout",
     "output_type": "stream",
     "text": [
      "<class 'int'>\n",
      "<class 'int'>\n",
      "<class 'int'>\n",
      "<class 'int'>\n",
      "<class 'int'>\n",
      "<class 'int'>\n",
      "<class 'int'>\n",
      "<class 'str'>\n",
      "<class 'int'>\n",
      "<class 'int'>\n",
      "<class 'str'>\n",
      "<class 'str'>\n",
      "<class 'str'>\n",
      "<class 'int'>\n",
      "<class 'int'>\n",
      "<class 'int'>\n",
      "<class 'int'>\n",
      "<class 'int'>\n",
      "<class 'int'>\n",
      "<class 'int'>\n",
      "<class 'int'>\n"
     ]
    }
   ],
   "source": [
    "for i in df[4]:\n",
    "    print(type(i))"
   ]
  },
  {
   "cell_type": "code",
   "execution_count": null,
   "metadata": {},
   "outputs": [],
   "source": [
    "for list in cycle:\n",
    "    for i in list:\n",
    "        tag = info[i].text\n",
    "        print(tag)\n",
    "    break"
   ]
  },
  {
   "cell_type": "code",
   "execution_count": null,
   "metadata": {},
   "outputs": [],
   "source": [
    "mask_abilities = {}\n",
    "terastallised_abilities = {}"
   ]
  },
  {
   "cell_type": "code",
   "execution_count": null,
   "metadata": {},
   "outputs": [],
   "source": [
    "mask_abilities = {}\n",
    "terastallised_abilities = {}\n",
    "\n",
    "for i in foo_info[10].find_all('b'):\n",
    "    father = i\n",
    "    ability = father.text\n",
    "    if ' Mask ' in ability:\n",
    "        mask_abilities[ability] = []\n",
    "    elif ' Mask' in ability:\n",
    "        terastallised_abilities[ability] = []\n",
    "    else:\n",
    "        print(ability)"
   ]
  },
  {
   "cell_type": "code",
   "execution_count": null,
   "metadata": {},
   "outputs": [],
   "source": [
    "ala = foo_info[10].find_all('b')"
   ]
  },
  {
   "cell_type": "code",
   "execution_count": null,
   "metadata": {},
   "outputs": [],
   "source": [
    "for n,i in enumerate(ala):\n",
    "    try:\n",
    "        father = i\n",
    "        ability = father.text\n",
    "\n",
    "        if ' Mask ' in ability:\n",
    "            continue\n",
    "\n",
    "        ability_text = father.next_element.next.strip()\n",
    "        to_join = [ability, ability_text]\n",
    "        result = ''.join(to_join)\n",
    "        print(result)\n",
    "\n",
    "        for e,k in enumerate(mask_abilities):\n",
    "            if n == e:\n",
    "                mask_abilities[k] = result\n",
    "                break\n",
    "\n",
    "        print(mask_abilities)\n",
    "    except TypeError:\n",
    "        print('error')\n",
    "        continue"
   ]
  },
  {
   "cell_type": "code",
   "execution_count": null,
   "metadata": {},
   "outputs": [],
   "source": [
    "for n,i in enumerate(mask_abilities):\n",
    "    print(n,i)"
   ]
  },
  {
   "cell_type": "code",
   "execution_count": null,
   "metadata": {},
   "outputs": [],
   "source": [
    "terastallised_abilities"
   ]
  },
  {
   "cell_type": "code",
   "execution_count": null,
   "metadata": {},
   "outputs": [],
   "source": [
    "elemental_types = ['Normal', 'Fire', 'Water', 'Electric', 'Grass', 'Ice', 'Fight', 'Poison', 'Ground', 'Flying', 'Psychc', 'Bug', 'Rock', 'Ghost', 'Dragon', 'Dark', 'Steel', 'Fairy']"
   ]
  },
  {
   "cell_type": "code",
   "execution_count": null,
   "metadata": {},
   "outputs": [],
   "source": [
    "for i in elemental_types:\n",
    "    print(i.capitalize())"
   ]
  },
  {
   "cell_type": "code",
   "execution_count": null,
   "metadata": {},
   "outputs": [],
   "source": [
    "all_divs[1].find('td', string=re.compile(\"Base Stats - Total.*\")).find_next_siblings('td')"
   ]
  },
  {
   "cell_type": "code",
   "execution_count": null,
   "metadata": {},
   "outputs": [],
   "source": [
    "for i in foo_info[0]:\n",
    "    print(i.split())\n",
    "    a_tag = i.find('img')\n",
    "    print(a_tag)\n",
    "    type_text = a_tag['alt']\n",
    "    print(type_text)"
   ]
  },
  {
   "cell_type": "code",
   "execution_count": null,
   "metadata": {},
   "outputs": [],
   "source": [
    "type(foo_info[0].find(string='XD'))"
   ]
  },
  {
   "cell_type": "code",
   "execution_count": null,
   "metadata": {},
   "outputs": [],
   "source": [
    "ala = {'regional': 0}\n",
    "\n",
    "if 'regional' in ala:\n",
    "    print(ala)"
   ]
  },
  {
   "cell_type": "code",
   "execution_count": null,
   "metadata": {},
   "outputs": [],
   "source": [
    "m = Mega_Pokemon(x)"
   ]
  },
  {
   "cell_type": "code",
   "execution_count": null,
   "metadata": {},
   "outputs": [],
   "source": [
    "m.name()"
   ]
  },
  {
   "cell_type": "code",
   "execution_count": null,
   "metadata": {},
   "outputs": [],
   "source": [
    "m.m_name"
   ]
  },
  {
   "cell_type": "code",
   "execution_count": null,
   "metadata": {},
   "outputs": [],
   "source": [
    "s = all_divs[0].find_all('table', {'class': 'dextable'})"
   ]
  },
  {
   "cell_type": "code",
   "execution_count": null,
   "metadata": {},
   "outputs": [],
   "source": [
    "for i, table in enumerate(s):\n",
    "    if table.find('td', {'class': 'fooevo', 'colspan': '6'}):\n",
    "        print('existe')\n",
    "        print(i)"
   ]
  },
  {
   "cell_type": "code",
   "execution_count": null,
   "metadata": {},
   "outputs": [],
   "source": [
    "#Abilities\n",
    "ala = s[20].find_all('b')\n",
    "\n",
    "abilities = {'ability': []}\n",
    "\n",
    "process_ability(ala[2], abilities, None, None)\n"
   ]
  },
  {
   "cell_type": "code",
   "execution_count": null,
   "metadata": {},
   "outputs": [],
   "source": [
    "abilities"
   ]
  },
  {
   "cell_type": "code",
   "execution_count": null,
   "metadata": {},
   "outputs": [],
   "source": [
    "#Weakness\n",
    "types = []\n",
    "\n",
    "for td_tag in foo_info[0:18]:\n",
    "    a_tag = td_tag.find('img')\n",
    "    if a_tag:\n",
    "        type_text = a_tag['alt']\n",
    "        types.append(type_text)\n",
    "\n",
    "s = 'Attacking Move Type: ','-type'\n",
    "for string in s:\n",
    "    types = list(map(lambda x: x.replace(string,''),types))\n",
    "\n",
    "print(types)\n",
    "\n",
    "filtered = [tag for tag in foo_info[18:36] if '*' in tag.get_text(strip=True)]\n",
    "filtered_t = [i.text for i in filtered]\n",
    "val = list(map(lambda x: int(x.replace('*','')),filtered_t))"
   ]
  },
  {
   "cell_type": "code",
   "execution_count": null,
   "metadata": {},
   "outputs": [],
   "source": [
    "#Elemental Types\n",
    "tp = foo_info[0]\n",
    "types = []\n",
    "for tag in tp:\n",
    "    a_tag = tag.find('img')\n",
    "    print(a_tag)\n",
    "    type_text = a_tag['alt']\n",
    "    print(type_text)\n",
    "    types.append(type_text)\n",
    "\n",
    "s = 'Attacking Move Type: ','-type'\n",
    "for string in s:\n",
    "    types = list(map(lambda x: x.replace(string,''),types))"
   ]
  },
  {
   "cell_type": "code",
   "execution_count": null,
   "metadata": {},
   "outputs": [],
   "source": [
    "base_form = []\n",
    "form = []\n",
    "\n",
    "if foo_info[0].find(string='Normal'):\n",
    "    main = foo_info[0].find_all('td')\n",
    "\n",
    "    for index,tag in enumerate(main):\n",
    "        lazy = tag.text.strip()\n",
    "\n",
    "        if lazy == 'Normal':\n",
    "            basic = main[index+1].find('img')\n",
    "            type_text = basic['alt']\n",
    "            base_form.append(type_text)\n",
    "        elif lazy:\n",
    "            basic = main[index+1].find_all('img')\n",
    "            for e in basic:\n",
    "                type_text = e['alt']\n",
    "                form.append(type_text)"
   ]
  },
  {
   "cell_type": "code",
   "execution_count": null,
   "metadata": {},
   "outputs": [],
   "source": [
    "#Get al tables from the main center table\n",
    "tables = all_divs[0].find_all('table', {'class': 'dextable'})\n",
    "\n",
    "#Search for the line that contains <td class=\"fooevo\" colspan=\"6\">\n",
    "mega_evolution_position = -1\n",
    "counter = 0\n",
    "for i, table in enumerate(tables):\n",
    "    if table.find('td', {'class': 'fooevo', 'colspan': '6'}):\n",
    "        mega_evolution_position = i\n",
    "        print(i)\n",
    "        print(table)\n",
    "        break #Simulates return\n",
    "    else:\n",
    "        print('Does not have Mega')"
   ]
  },
  {
   "cell_type": "code",
   "execution_count": null,
   "metadata": {},
   "outputs": [],
   "source": [
    "#Mega Evolution Types\n",
    "t = tables[19].find('td', class_='cen')\n",
    "\n",
    "ty_val = []\n",
    "\n",
    "for i in t:\n",
    "    n = i.find('img')\n",
    "    if n and not isinstance(n,Tag):\n",
    "        continue\n",
    "    n = n['src']\n",
    "    for element in x.elemental_types:\n",
    "        ty = element.lower()\n",
    "        if ty in n:\n",
    "            ty_val.append(element)\n",
    "\n",
    "print(ty_val)"
   ]
  },
  {
   "cell_type": "code",
   "execution_count": null,
   "metadata": {},
   "outputs": [],
   "source": [
    "#Mega Evolution Weakness\n",
    "w = []\n",
    "\n",
    "if ty_val == x._elements:\n",
    "    pass\n",
    "else:\n",
    "    weak_location = tables[22].find('td', string=re.compile(\"Base Stats - Total.*\")).find_next_siblings('td')\n",
    "    filtered_types = list(filter(lambda x: '*' in x.text, weak_location.find_all('td', {'class': 'footype'})))\n",
    "    filtered = [tag.text for tag in filtered_types if '*' in tag.get_text(strip=True)]\n",
    "\n",
    "    val = list(map(lambda x: x.replace('*',''),filtered_t))\n",
    "\n",
    "    for i in val:\n",
    "        try:\n",
    "            w.append(int(i))\n",
    "        except ValueError:\n",
    "            w.append(float(i))\n",
    "\n",
    "    mega_weak = dict(zip(x.elemental_types,w))"
   ]
  }
 ],
 "metadata": {
  "kernelspec": {
   "display_name": "python_main",
   "language": "python",
   "name": "python3"
  },
  "language_info": {
   "codemirror_mode": {
    "name": "ipython",
    "version": 3
   },
   "file_extension": ".py",
   "mimetype": "text/x-python",
   "name": "python",
   "nbconvert_exporter": "python",
   "pygments_lexer": "ipython3",
   "version": "3.11.4"
  }
 },
 "nbformat": 4,
 "nbformat_minor": 2
}
